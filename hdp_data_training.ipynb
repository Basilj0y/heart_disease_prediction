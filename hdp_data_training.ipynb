{
 "cells": [
  {
   "cell_type": "markdown",
   "metadata": {},
   "source": [
    "# Importing libraries"
   ]
  },
  {
   "cell_type": "code",
   "execution_count": 195,
   "metadata": {},
   "outputs": [],
   "source": [
    "import pandas as pd \n",
    "import numpy as np"
   ]
  },
  {
   "cell_type": "markdown",
   "metadata": {},
   "source": [
    "# Loading the Dataset into Dataframe"
   ]
  },
  {
   "cell_type": "code",
   "execution_count": 196,
   "metadata": {},
   "outputs": [],
   "source": [
    "df = pd.read_csv(\"E:\\heart_disease_prediction\\heart_disease_prediction\\Patient_Health_Data.csv\")"
   ]
  },
  {
   "cell_type": "markdown",
   "metadata": {},
   "source": [
    "# Overview of Data Structure  "
   ]
  },
  {
   "cell_type": "code",
   "execution_count": 197,
   "metadata": {},
   "outputs": [
    {
     "name": "stdout",
     "output_type": "stream",
     "text": [
      "Dataset shape: (2000, 14)\n"
     ]
    }
   ],
   "source": [
    "print(f\"Dataset shape: {df.shape}\")"
   ]
  },
  {
   "cell_type": "code",
   "execution_count": 198,
   "metadata": {},
   "outputs": [
    {
     "name": "stdout",
     "output_type": "stream",
     "text": [
      "Patient_ID                       object\n",
      "Height_cm                       float64\n",
      "Weight_kg                       float64\n",
      "Blood_Pressure                   object\n",
      "Temperature_C                   float64\n",
      "Heart_Rate                      float64\n",
      "Symptoms                         object\n",
      "Existing_Conditions              object\n",
      "Disease_Predictions              object\n",
      "Laboratory_Test_Results          object\n",
      "Cholesterol_mg_dL               float64\n",
      "Blood_Sugar_mg_dL               float64\n",
      "Family_History_Heart_Disease     object\n",
      "Smoking_Status                   object\n",
      "dtype: object\n"
     ]
    }
   ],
   "source": [
    "# Column names and data types\n",
    "print(df.dtypes)"
   ]
  },
  {
   "cell_type": "code",
   "execution_count": 199,
   "metadata": {},
   "outputs": [
    {
     "name": "stdout",
     "output_type": "stream",
     "text": [
      "  Patient_ID  Height_cm  Weight_kg Blood_Pressure  Temperature_C  Heart_Rate  \\\n",
      "0      P0001      174.0       59.0         120/80           36.6        63.0   \n",
      "1      P0002        NaN       67.0         130/85           37.0        68.0   \n",
      "2      P0003      176.0       58.0         140/90           37.0        65.0   \n",
      "3      P0004      185.0       65.0         125/82           37.2        69.0   \n",
      "4      P0005      167.0       41.0         135/88           36.3        72.0   \n",
      "\n",
      "              Symptoms Existing_Conditions      Disease_Predictions  \\\n",
      "0           chest pain            Diabetes            Heart Disease   \n",
      "1  shortness of breath        Hypertension  Coronary Artery Disease   \n",
      "2              fatigue    High Cholesterol               Arrhythmia   \n",
      "3            dizziness                 NaN                      NaN   \n",
      "4         palpitations              Asthma             Hypertension   \n",
      "\n",
      "  Laboratory_Test_Results  Cholesterol_mg_dL  Blood_Sugar_mg_dL  \\\n",
      "0        High Cholesterol              198.0               79.0   \n",
      "1                     NaN              179.0               90.0   \n",
      "2                  Normal              193.0               82.0   \n",
      "3                     NaN              228.0              103.0   \n",
      "4                     NaN              251.0              135.0   \n",
      "\n",
      "  Family_History_Heart_Disease Smoking_Status  \n",
      "0                          Yes          Never  \n",
      "1                           No         Former  \n",
      "2                          NaN        Current  \n",
      "3                           No          Never  \n",
      "4                          Yes         Former  \n"
     ]
    }
   ],
   "source": [
    "# First few rows:\n",
    "print(df.head())"
   ]
  },
  {
   "cell_type": "code",
   "execution_count": null,
   "metadata": {},
   "outputs": [],
   "source": []
  },
  {
   "cell_type": "code",
   "execution_count": 200,
   "metadata": {},
   "outputs": [
    {
     "name": "stdout",
     "output_type": "stream",
     "text": [
      "     Patient_ID  Height_cm  Weight_kg Blood_Pressure  Temperature_C  \\\n",
      "1995      P1996      180.0       70.0         120/80           37.1   \n",
      "1996      P1997      169.0       38.0         130/85           37.6   \n",
      "1997      P1998      161.0       65.0         140/90            NaN   \n",
      "1998      P1999      168.0       94.0         125/82           37.2   \n",
      "1999      P2000      162.0       75.0         135/88           36.4   \n",
      "\n",
      "      Heart_Rate      Symptoms Existing_Conditions      Disease_Predictions  \\\n",
      "1995        97.0    chest pain                 NaN                   Stroke   \n",
      "1996        78.0           NaN              Asthma             Hypertension   \n",
      "1997        66.0       fatigue             Thyroid                      NaN   \n",
      "1998        91.0     dizziness            Diabetes            Heart Disease   \n",
      "1999        95.0  palpitations        Hypertension  Coronary Artery Disease   \n",
      "\n",
      "     Laboratory_Test_Results  Cholesterol_mg_dL  Blood_Sugar_mg_dL  \\\n",
      "1995        High Cholesterol              252.0               64.0   \n",
      "1996        High Blood Sugar              120.0               97.0   \n",
      "1997                  Normal              171.0              125.0   \n",
      "1998                Low Iron              219.0               96.0   \n",
      "1999                     NaN              225.0               71.0   \n",
      "\n",
      "     Family_History_Heart_Disease Smoking_Status  \n",
      "1995                          NaN          Never  \n",
      "1996                          Yes         Former  \n",
      "1997                           No        Current  \n",
      "1998                          Yes          Never  \n",
      "1999                           No         Former  \n"
     ]
    }
   ],
   "source": [
    "# Last few rows:\n",
    "print(df.tail())"
   ]
  },
  {
   "cell_type": "code",
   "execution_count": 201,
   "metadata": {},
   "outputs": [
    {
     "name": "stdout",
     "output_type": "stream",
     "text": [
      "         Height_cm    Weight_kg  Temperature_C   Heart_Rate  \\\n",
      "count  1915.000000  1914.000000    1892.000000  1903.000000   \n",
      "mean    169.902350    69.388715      36.970983    74.567525   \n",
      "std       9.842987    15.047664       0.497384    10.325641   \n",
      "min     137.000000    24.000000      35.400000    38.000000   \n",
      "25%     163.000000    59.000000      36.700000    67.000000   \n",
      "50%     170.000000    70.000000      37.000000    74.000000   \n",
      "75%     176.000000    79.000000      37.300000    82.000000   \n",
      "max     208.000000   128.000000      38.600000   110.000000   \n",
      "\n",
      "       Cholesterol_mg_dL  Blood_Sugar_mg_dL  \n",
      "count        1899.000000        1880.000000  \n",
      "mean          199.612954          99.007447  \n",
      "std            39.454690          29.952720  \n",
      "min            43.000000          -1.000000  \n",
      "25%           174.000000          79.000000  \n",
      "50%           200.000000          99.000000  \n",
      "75%           226.000000         119.000000  \n",
      "max           335.000000         201.000000  \n"
     ]
    }
   ],
   "source": [
    "# Descriptive statistics for numerical features:\n",
    "print(df.describe())"
   ]
  },
  {
   "cell_type": "code",
   "execution_count": 202,
   "metadata": {},
   "outputs": [
    {
     "data": {
      "text/html": [
       "<div>\n",
       "<style scoped>\n",
       "    .dataframe tbody tr th:only-of-type {\n",
       "        vertical-align: middle;\n",
       "    }\n",
       "\n",
       "    .dataframe tbody tr th {\n",
       "        vertical-align: top;\n",
       "    }\n",
       "\n",
       "    .dataframe thead th {\n",
       "        text-align: right;\n",
       "    }\n",
       "</style>\n",
       "<table border=\"1\" class=\"dataframe\">\n",
       "  <thead>\n",
       "    <tr style=\"text-align: right;\">\n",
       "      <th></th>\n",
       "      <th>count</th>\n",
       "      <th>mean</th>\n",
       "      <th>std</th>\n",
       "      <th>min</th>\n",
       "      <th>25%</th>\n",
       "      <th>50%</th>\n",
       "      <th>75%</th>\n",
       "      <th>max</th>\n",
       "    </tr>\n",
       "  </thead>\n",
       "  <tbody>\n",
       "    <tr>\n",
       "      <th>Height_cm</th>\n",
       "      <td>1915.0</td>\n",
       "      <td>169.902350</td>\n",
       "      <td>9.842987</td>\n",
       "      <td>137.0</td>\n",
       "      <td>163.0</td>\n",
       "      <td>170.0</td>\n",
       "      <td>176.0</td>\n",
       "      <td>208.0</td>\n",
       "    </tr>\n",
       "    <tr>\n",
       "      <th>Weight_kg</th>\n",
       "      <td>1914.0</td>\n",
       "      <td>69.388715</td>\n",
       "      <td>15.047664</td>\n",
       "      <td>24.0</td>\n",
       "      <td>59.0</td>\n",
       "      <td>70.0</td>\n",
       "      <td>79.0</td>\n",
       "      <td>128.0</td>\n",
       "    </tr>\n",
       "    <tr>\n",
       "      <th>Temperature_C</th>\n",
       "      <td>1892.0</td>\n",
       "      <td>36.970983</td>\n",
       "      <td>0.497384</td>\n",
       "      <td>35.4</td>\n",
       "      <td>36.7</td>\n",
       "      <td>37.0</td>\n",
       "      <td>37.3</td>\n",
       "      <td>38.6</td>\n",
       "    </tr>\n",
       "    <tr>\n",
       "      <th>Heart_Rate</th>\n",
       "      <td>1903.0</td>\n",
       "      <td>74.567525</td>\n",
       "      <td>10.325641</td>\n",
       "      <td>38.0</td>\n",
       "      <td>67.0</td>\n",
       "      <td>74.0</td>\n",
       "      <td>82.0</td>\n",
       "      <td>110.0</td>\n",
       "    </tr>\n",
       "    <tr>\n",
       "      <th>Cholesterol_mg_dL</th>\n",
       "      <td>1899.0</td>\n",
       "      <td>199.612954</td>\n",
       "      <td>39.454690</td>\n",
       "      <td>43.0</td>\n",
       "      <td>174.0</td>\n",
       "      <td>200.0</td>\n",
       "      <td>226.0</td>\n",
       "      <td>335.0</td>\n",
       "    </tr>\n",
       "    <tr>\n",
       "      <th>Blood_Sugar_mg_dL</th>\n",
       "      <td>1880.0</td>\n",
       "      <td>99.007447</td>\n",
       "      <td>29.952720</td>\n",
       "      <td>-1.0</td>\n",
       "      <td>79.0</td>\n",
       "      <td>99.0</td>\n",
       "      <td>119.0</td>\n",
       "      <td>201.0</td>\n",
       "    </tr>\n",
       "  </tbody>\n",
       "</table>\n",
       "</div>"
      ],
      "text/plain": [
       "                    count        mean        std    min    25%    50%    75%  \\\n",
       "Height_cm          1915.0  169.902350   9.842987  137.0  163.0  170.0  176.0   \n",
       "Weight_kg          1914.0   69.388715  15.047664   24.0   59.0   70.0   79.0   \n",
       "Temperature_C      1892.0   36.970983   0.497384   35.4   36.7   37.0   37.3   \n",
       "Heart_Rate         1903.0   74.567525  10.325641   38.0   67.0   74.0   82.0   \n",
       "Cholesterol_mg_dL  1899.0  199.612954  39.454690   43.0  174.0  200.0  226.0   \n",
       "Blood_Sugar_mg_dL  1880.0   99.007447  29.952720   -1.0   79.0   99.0  119.0   \n",
       "\n",
       "                     max  \n",
       "Height_cm          208.0  \n",
       "Weight_kg          128.0  \n",
       "Temperature_C       38.6  \n",
       "Heart_Rate         110.0  \n",
       "Cholesterol_mg_dL  335.0  \n",
       "Blood_Sugar_mg_dL  201.0  "
      ]
     },
     "execution_count": 202,
     "metadata": {},
     "output_type": "execute_result"
    }
   ],
   "source": [
    "df.describe().T"
   ]
  },
  {
   "cell_type": "code",
   "execution_count": 203,
   "metadata": {},
   "outputs": [
    {
     "name": "stdout",
     "output_type": "stream",
     "text": [
      "Patient_ID                      2000\n",
      "Height_cm                         62\n",
      "Weight_kg                         91\n",
      "Blood_Pressure                     6\n",
      "Temperature_C                     33\n",
      "Heart_Rate                        63\n",
      "Symptoms                           6\n",
      "Existing_Conditions                5\n",
      "Disease_Predictions                5\n",
      "Laboratory_Test_Results            4\n",
      "Cholesterol_mg_dL                200\n",
      "Blood_Sugar_mg_dL                169\n",
      "Family_History_Heart_Disease       2\n",
      "Smoking_Status                     3\n",
      "dtype: int64\n"
     ]
    }
   ],
   "source": [
    "print(df.nunique())"
   ]
  },
  {
   "cell_type": "code",
   "execution_count": 204,
   "metadata": {},
   "outputs": [
    {
     "data": {
      "text/html": [
       "<div>\n",
       "<style scoped>\n",
       "    .dataframe tbody tr th:only-of-type {\n",
       "        vertical-align: middle;\n",
       "    }\n",
       "\n",
       "    .dataframe tbody tr th {\n",
       "        vertical-align: top;\n",
       "    }\n",
       "\n",
       "    .dataframe thead th {\n",
       "        text-align: right;\n",
       "    }\n",
       "</style>\n",
       "<table border=\"1\" class=\"dataframe\">\n",
       "  <thead>\n",
       "    <tr style=\"text-align: right;\">\n",
       "      <th></th>\n",
       "      <th>Patient_ID</th>\n",
       "      <th>Height_cm</th>\n",
       "      <th>Weight_kg</th>\n",
       "      <th>Blood_Pressure</th>\n",
       "      <th>Temperature_C</th>\n",
       "      <th>Heart_Rate</th>\n",
       "      <th>Symptoms</th>\n",
       "      <th>Existing_Conditions</th>\n",
       "      <th>Disease_Predictions</th>\n",
       "      <th>Laboratory_Test_Results</th>\n",
       "      <th>Cholesterol_mg_dL</th>\n",
       "      <th>Blood_Sugar_mg_dL</th>\n",
       "      <th>Family_History_Heart_Disease</th>\n",
       "      <th>Smoking_Status</th>\n",
       "    </tr>\n",
       "  </thead>\n",
       "  <tbody>\n",
       "    <tr>\n",
       "      <th>count</th>\n",
       "      <td>2000</td>\n",
       "      <td>1915.000000</td>\n",
       "      <td>1914.000000</td>\n",
       "      <td>1640</td>\n",
       "      <td>1892.000000</td>\n",
       "      <td>1903.000000</td>\n",
       "      <td>1562</td>\n",
       "      <td>1488</td>\n",
       "      <td>1488</td>\n",
       "      <td>1505</td>\n",
       "      <td>1899.000000</td>\n",
       "      <td>1880.000000</td>\n",
       "      <td>1891</td>\n",
       "      <td>1911</td>\n",
       "    </tr>\n",
       "    <tr>\n",
       "      <th>unique</th>\n",
       "      <td>2000</td>\n",
       "      <td>NaN</td>\n",
       "      <td>NaN</td>\n",
       "      <td>6</td>\n",
       "      <td>NaN</td>\n",
       "      <td>NaN</td>\n",
       "      <td>6</td>\n",
       "      <td>5</td>\n",
       "      <td>5</td>\n",
       "      <td>4</td>\n",
       "      <td>NaN</td>\n",
       "      <td>NaN</td>\n",
       "      <td>2</td>\n",
       "      <td>3</td>\n",
       "    </tr>\n",
       "    <tr>\n",
       "      <th>top</th>\n",
       "      <td>P1984</td>\n",
       "      <td>NaN</td>\n",
       "      <td>NaN</td>\n",
       "      <td>135/88</td>\n",
       "      <td>NaN</td>\n",
       "      <td>NaN</td>\n",
       "      <td>palpitations</td>\n",
       "      <td>Thyroid</td>\n",
       "      <td>Hypertension</td>\n",
       "      <td>High Blood Sugar</td>\n",
       "      <td>NaN</td>\n",
       "      <td>NaN</td>\n",
       "      <td>No</td>\n",
       "      <td>Current</td>\n",
       "    </tr>\n",
       "    <tr>\n",
       "      <th>freq</th>\n",
       "      <td>1</td>\n",
       "      <td>NaN</td>\n",
       "      <td>NaN</td>\n",
       "      <td>280</td>\n",
       "      <td>NaN</td>\n",
       "      <td>NaN</td>\n",
       "      <td>263</td>\n",
       "      <td>302</td>\n",
       "      <td>303</td>\n",
       "      <td>379</td>\n",
       "      <td>NaN</td>\n",
       "      <td>NaN</td>\n",
       "      <td>954</td>\n",
       "      <td>640</td>\n",
       "    </tr>\n",
       "    <tr>\n",
       "      <th>mean</th>\n",
       "      <td>NaN</td>\n",
       "      <td>169.902350</td>\n",
       "      <td>69.388715</td>\n",
       "      <td>NaN</td>\n",
       "      <td>36.970983</td>\n",
       "      <td>74.567525</td>\n",
       "      <td>NaN</td>\n",
       "      <td>NaN</td>\n",
       "      <td>NaN</td>\n",
       "      <td>NaN</td>\n",
       "      <td>199.612954</td>\n",
       "      <td>99.007447</td>\n",
       "      <td>NaN</td>\n",
       "      <td>NaN</td>\n",
       "    </tr>\n",
       "    <tr>\n",
       "      <th>std</th>\n",
       "      <td>NaN</td>\n",
       "      <td>9.842987</td>\n",
       "      <td>15.047664</td>\n",
       "      <td>NaN</td>\n",
       "      <td>0.497384</td>\n",
       "      <td>10.325641</td>\n",
       "      <td>NaN</td>\n",
       "      <td>NaN</td>\n",
       "      <td>NaN</td>\n",
       "      <td>NaN</td>\n",
       "      <td>39.454690</td>\n",
       "      <td>29.952720</td>\n",
       "      <td>NaN</td>\n",
       "      <td>NaN</td>\n",
       "    </tr>\n",
       "    <tr>\n",
       "      <th>min</th>\n",
       "      <td>NaN</td>\n",
       "      <td>137.000000</td>\n",
       "      <td>24.000000</td>\n",
       "      <td>NaN</td>\n",
       "      <td>35.400000</td>\n",
       "      <td>38.000000</td>\n",
       "      <td>NaN</td>\n",
       "      <td>NaN</td>\n",
       "      <td>NaN</td>\n",
       "      <td>NaN</td>\n",
       "      <td>43.000000</td>\n",
       "      <td>-1.000000</td>\n",
       "      <td>NaN</td>\n",
       "      <td>NaN</td>\n",
       "    </tr>\n",
       "    <tr>\n",
       "      <th>25%</th>\n",
       "      <td>NaN</td>\n",
       "      <td>163.000000</td>\n",
       "      <td>59.000000</td>\n",
       "      <td>NaN</td>\n",
       "      <td>36.700000</td>\n",
       "      <td>67.000000</td>\n",
       "      <td>NaN</td>\n",
       "      <td>NaN</td>\n",
       "      <td>NaN</td>\n",
       "      <td>NaN</td>\n",
       "      <td>174.000000</td>\n",
       "      <td>79.000000</td>\n",
       "      <td>NaN</td>\n",
       "      <td>NaN</td>\n",
       "    </tr>\n",
       "    <tr>\n",
       "      <th>50%</th>\n",
       "      <td>NaN</td>\n",
       "      <td>170.000000</td>\n",
       "      <td>70.000000</td>\n",
       "      <td>NaN</td>\n",
       "      <td>37.000000</td>\n",
       "      <td>74.000000</td>\n",
       "      <td>NaN</td>\n",
       "      <td>NaN</td>\n",
       "      <td>NaN</td>\n",
       "      <td>NaN</td>\n",
       "      <td>200.000000</td>\n",
       "      <td>99.000000</td>\n",
       "      <td>NaN</td>\n",
       "      <td>NaN</td>\n",
       "    </tr>\n",
       "    <tr>\n",
       "      <th>75%</th>\n",
       "      <td>NaN</td>\n",
       "      <td>176.000000</td>\n",
       "      <td>79.000000</td>\n",
       "      <td>NaN</td>\n",
       "      <td>37.300000</td>\n",
       "      <td>82.000000</td>\n",
       "      <td>NaN</td>\n",
       "      <td>NaN</td>\n",
       "      <td>NaN</td>\n",
       "      <td>NaN</td>\n",
       "      <td>226.000000</td>\n",
       "      <td>119.000000</td>\n",
       "      <td>NaN</td>\n",
       "      <td>NaN</td>\n",
       "    </tr>\n",
       "    <tr>\n",
       "      <th>max</th>\n",
       "      <td>NaN</td>\n",
       "      <td>208.000000</td>\n",
       "      <td>128.000000</td>\n",
       "      <td>NaN</td>\n",
       "      <td>38.600000</td>\n",
       "      <td>110.000000</td>\n",
       "      <td>NaN</td>\n",
       "      <td>NaN</td>\n",
       "      <td>NaN</td>\n",
       "      <td>NaN</td>\n",
       "      <td>335.000000</td>\n",
       "      <td>201.000000</td>\n",
       "      <td>NaN</td>\n",
       "      <td>NaN</td>\n",
       "    </tr>\n",
       "  </tbody>\n",
       "</table>\n",
       "</div>"
      ],
      "text/plain": [
       "       Patient_ID    Height_cm    Weight_kg Blood_Pressure  Temperature_C  \\\n",
       "count        2000  1915.000000  1914.000000           1640    1892.000000   \n",
       "unique       2000          NaN          NaN              6            NaN   \n",
       "top         P1984          NaN          NaN         135/88            NaN   \n",
       "freq            1          NaN          NaN            280            NaN   \n",
       "mean          NaN   169.902350    69.388715            NaN      36.970983   \n",
       "std           NaN     9.842987    15.047664            NaN       0.497384   \n",
       "min           NaN   137.000000    24.000000            NaN      35.400000   \n",
       "25%           NaN   163.000000    59.000000            NaN      36.700000   \n",
       "50%           NaN   170.000000    70.000000            NaN      37.000000   \n",
       "75%           NaN   176.000000    79.000000            NaN      37.300000   \n",
       "max           NaN   208.000000   128.000000            NaN      38.600000   \n",
       "\n",
       "         Heart_Rate      Symptoms Existing_Conditions Disease_Predictions  \\\n",
       "count   1903.000000          1562                1488                1488   \n",
       "unique          NaN             6                   5                   5   \n",
       "top             NaN  palpitations             Thyroid        Hypertension   \n",
       "freq            NaN           263                 302                 303   \n",
       "mean      74.567525           NaN                 NaN                 NaN   \n",
       "std       10.325641           NaN                 NaN                 NaN   \n",
       "min       38.000000           NaN                 NaN                 NaN   \n",
       "25%       67.000000           NaN                 NaN                 NaN   \n",
       "50%       74.000000           NaN                 NaN                 NaN   \n",
       "75%       82.000000           NaN                 NaN                 NaN   \n",
       "max      110.000000           NaN                 NaN                 NaN   \n",
       "\n",
       "       Laboratory_Test_Results  Cholesterol_mg_dL  Blood_Sugar_mg_dL  \\\n",
       "count                     1505        1899.000000        1880.000000   \n",
       "unique                       4                NaN                NaN   \n",
       "top           High Blood Sugar                NaN                NaN   \n",
       "freq                       379                NaN                NaN   \n",
       "mean                       NaN         199.612954          99.007447   \n",
       "std                        NaN          39.454690          29.952720   \n",
       "min                        NaN          43.000000          -1.000000   \n",
       "25%                        NaN         174.000000          79.000000   \n",
       "50%                        NaN         200.000000          99.000000   \n",
       "75%                        NaN         226.000000         119.000000   \n",
       "max                        NaN         335.000000         201.000000   \n",
       "\n",
       "       Family_History_Heart_Disease Smoking_Status  \n",
       "count                          1891           1911  \n",
       "unique                            2              3  \n",
       "top                              No        Current  \n",
       "freq                            954            640  \n",
       "mean                            NaN            NaN  \n",
       "std                             NaN            NaN  \n",
       "min                             NaN            NaN  \n",
       "25%                             NaN            NaN  \n",
       "50%                             NaN            NaN  \n",
       "75%                             NaN            NaN  \n",
       "max                             NaN            NaN  "
      ]
     },
     "execution_count": 204,
     "metadata": {},
     "output_type": "execute_result"
    }
   ],
   "source": [
    "# Check for basic statistics (to spot outliers or inconsistencies)\n",
    "df.describe(include='all')"
   ]
  },
  {
   "cell_type": "code",
   "execution_count": 205,
   "metadata": {},
   "outputs": [
    {
     "name": "stdout",
     "output_type": "stream",
     "text": [
      "<class 'pandas.core.frame.DataFrame'>\n",
      "RangeIndex: 2000 entries, 0 to 1999\n",
      "Data columns (total 14 columns):\n",
      " #   Column                        Non-Null Count  Dtype  \n",
      "---  ------                        --------------  -----  \n",
      " 0   Patient_ID                    2000 non-null   object \n",
      " 1   Height_cm                     1915 non-null   float64\n",
      " 2   Weight_kg                     1914 non-null   float64\n",
      " 3   Blood_Pressure                1640 non-null   object \n",
      " 4   Temperature_C                 1892 non-null   float64\n",
      " 5   Heart_Rate                    1903 non-null   float64\n",
      " 6   Symptoms                      1562 non-null   object \n",
      " 7   Existing_Conditions           1488 non-null   object \n",
      " 8   Disease_Predictions           1488 non-null   object \n",
      " 9   Laboratory_Test_Results       1505 non-null   object \n",
      " 10  Cholesterol_mg_dL             1899 non-null   float64\n",
      " 11  Blood_Sugar_mg_dL             1880 non-null   float64\n",
      " 12  Family_History_Heart_Disease  1891 non-null   object \n",
      " 13  Smoking_Status                1911 non-null   object \n",
      "dtypes: float64(6), object(8)\n",
      "memory usage: 218.9+ KB\n"
     ]
    }
   ],
   "source": [
    "# Check data types and non-null counts\n",
    "df.info()"
   ]
  },
  {
   "cell_type": "markdown",
   "metadata": {},
   "source": [
    "# Handling Missing Values"
   ]
  },
  {
   "cell_type": "code",
   "execution_count": 206,
   "metadata": {},
   "outputs": [],
   "source": [
    "# Identify numerical and categorical columns\n",
    "numerical_columns = df.select_dtypes(include=['number']).columns\n",
    "categorical_columns = df.select_dtypes(exclude=['number']).columns"
   ]
  },
  {
   "cell_type": "code",
   "execution_count": 207,
   "metadata": {},
   "outputs": [
    {
     "name": "stdout",
     "output_type": "stream",
     "text": [
      "Numerical Columns: Index(['Height_cm', 'Weight_kg', 'Temperature_C', 'Heart_Rate',\n",
      "       'Cholesterol_mg_dL', 'Blood_Sugar_mg_dL'],\n",
      "      dtype='object')\n",
      "Categorical Columns: Index(['Patient_ID', 'Blood_Pressure', 'Symptoms', 'Existing_Conditions',\n",
      "       'Disease_Predictions', 'Laboratory_Test_Results',\n",
      "       'Family_History_Heart_Disease', 'Smoking_Status'],\n",
      "      dtype='object')\n"
     ]
    }
   ],
   "source": [
    "print(\"Numerical Columns:\", numerical_columns)\n",
    "print(\"Categorical Columns:\", categorical_columns)"
   ]
  },
  {
   "cell_type": "code",
   "execution_count": 208,
   "metadata": {},
   "outputs": [
    {
     "data": {
      "text/plain": [
       "Patient_ID                        0\n",
       "Height_cm                        85\n",
       "Weight_kg                        86\n",
       "Blood_Pressure                  360\n",
       "Temperature_C                   108\n",
       "Heart_Rate                       97\n",
       "Symptoms                        438\n",
       "Existing_Conditions             512\n",
       "Disease_Predictions             512\n",
       "Laboratory_Test_Results         495\n",
       "Cholesterol_mg_dL               101\n",
       "Blood_Sugar_mg_dL               120\n",
       "Family_History_Heart_Disease    109\n",
       "Smoking_Status                   89\n",
       "dtype: int64"
      ]
     },
     "execution_count": 208,
     "metadata": {},
     "output_type": "execute_result"
    }
   ],
   "source": [
    "# Check for missing values\n",
    "df.isnull().sum()"
   ]
  },
  {
   "cell_type": "code",
   "execution_count": 209,
   "metadata": {},
   "outputs": [
    {
     "name": "stdout",
     "output_type": "stream",
     "text": [
      "Missing values in numerical columns:\n",
      " Height_cm             85\n",
      "Weight_kg             86\n",
      "Temperature_C        108\n",
      "Heart_Rate            97\n",
      "Cholesterol_mg_dL    101\n",
      "Blood_Sugar_mg_dL    120\n",
      "dtype: int64\n"
     ]
    }
   ],
   "source": [
    "# Missing values in numerical columns\n",
    "missing_numerical = df[numerical_columns].isnull().sum()\n",
    "print(\"Missing values in numerical columns:\\n\", missing_numerical)"
   ]
  },
  {
   "cell_type": "code",
   "execution_count": 210,
   "metadata": {},
   "outputs": [
    {
     "name": "stdout",
     "output_type": "stream",
     "text": [
      "Missing values in categorical columns:\n",
      " Patient_ID                        0\n",
      "Blood_Pressure                  360\n",
      "Symptoms                        438\n",
      "Existing_Conditions             512\n",
      "Disease_Predictions             512\n",
      "Laboratory_Test_Results         495\n",
      "Family_History_Heart_Disease    109\n",
      "Smoking_Status                   89\n",
      "dtype: int64\n"
     ]
    }
   ],
   "source": [
    "# Missing values in categorical columns\n",
    "missing_categorical = df[categorical_columns].isnull().sum()\n",
    "print(\"Missing values in categorical columns:\\n\", missing_categorical)"
   ]
  },
  {
   "cell_type": "markdown",
   "metadata": {},
   "source": [
    "\n",
    "#  Checking for Missing Values in the each numerical Column"
   ]
  },
  {
   "cell_type": "code",
   "execution_count": 211,
   "metadata": {},
   "outputs": [
    {
     "data": {
      "text/plain": [
       "np.int64(85)"
      ]
     },
     "execution_count": 211,
     "metadata": {},
     "output_type": "execute_result"
    }
   ],
   "source": [
    "# for \"Height_cm\" column\n",
    "df[\"Height_cm\"].isnull().sum()  "
   ]
  },
  {
   "cell_type": "code",
   "execution_count": 212,
   "metadata": {},
   "outputs": [
    {
     "data": {
      "text/plain": [
       "<Axes: ylabel='Frequency'>"
      ]
     },
     "execution_count": 212,
     "metadata": {},
     "output_type": "execute_result"
    },
    {
     "data": {
      "image/png": "[encoded data removed]",
      "text/plain": [
       "<Figure size 640x480 with 1 Axes>"
      ]
     },
     "metadata": {},
     "output_type": "display_data"
    }
   ],
   "source": [
    "import matplotlib.pyplot as plt\n",
    "df[\"Height_cm\"].plot(kind='hist',bins=10)"
   ]
  },
  {
   "cell_type": "code",
   "execution_count": 213,
   "metadata": {},
   "outputs": [
    {
     "name": "stdout",
     "output_type": "stream",
     "text": [
      "0\n"
     ]
    }
   ],
   "source": [
    "df[\"Height_cm\"].fillna(df[\"Height_cm\"].mean(),inplace=True)\n",
    "print(df[\"Height_cm\"].isnull().sum())"
   ]
  },
  {
   "cell_type": "code",
   "execution_count": 214,
   "metadata": {},
   "outputs": [
    {
     "data": {
      "text/plain": [
       "np.int64(86)"
      ]
     },
     "execution_count": 214,
     "metadata": {},
     "output_type": "execute_result"
    }
   ],
   "source": [
    "# for \"Weight_kg\" column\n",
    "df[\"Weight_kg\"].isnull().sum()  "
   ]
  },
  {
   "cell_type": "code",
   "execution_count": 215,
   "metadata": {},
   "outputs": [
    {
     "data": {
      "text/plain": [
       "<Axes: ylabel='Frequency'>"
      ]
     },
     "execution_count": 215,
     "metadata": {},
     "output_type": "execute_result"
    },
    {
     "data": {
      "image/png": "[encoded data removed]",
      "text/plain": [
       "<Figure size 640x480 with 1 Axes>"
      ]
     },
     "metadata": {},
     "output_type": "display_data"
    }
   ],
   "source": [
    "import matplotlib.pyplot as plt\n",
    "df[\"Weight_kg\"].plot(kind='hist',bins=10)"
   ]
  },
  {
   "cell_type": "code",
   "execution_count": 216,
   "metadata": {},
   "outputs": [
    {
     "name": "stdout",
     "output_type": "stream",
     "text": [
      "0\n"
     ]
    }
   ],
   "source": [
    "df[\"Weight_kg\"].fillna(df[\"Weight_kg\"].mean(),inplace=True)\n",
    "print(df[\"Weight_kg\"].isnull().sum())"
   ]
  },
  {
   "cell_type": "code",
   "execution_count": 217,
   "metadata": {},
   "outputs": [
    {
     "data": {
      "text/plain": [
       "np.int64(108)"
      ]
     },
     "execution_count": 217,
     "metadata": {},
     "output_type": "execute_result"
    }
   ],
   "source": [
    "# for \"Temperature_C\" column\n",
    "df[\"Temperature_C\"].isnull().sum()  "
   ]
  },
  {
   "cell_type": "code",
   "execution_count": 218,
   "metadata": {},
   "outputs": [
    {
     "data": {
      "text/plain": [
       "<Axes: ylabel='Frequency'>"
      ]
     },
     "execution_count": 218,
     "metadata": {},
     "output_type": "execute_result"
    },
    {
     "data": {
      "image/png": "[encoded data removed]",
      "text/plain": [
       "<Figure size 640x480 with 1 Axes>"
      ]
     },
     "metadata": {},
     "output_type": "display_data"
    }
   ],
   "source": [
    "import matplotlib.pyplot as plt\n",
    "df[\"Temperature_C\"].plot(kind='hist',bins=10)"
   ]
  },
  {
   "cell_type": "code",
   "execution_count": 219,
   "metadata": {},
   "outputs": [
    {
     "name": "stdout",
     "output_type": "stream",
     "text": [
      "0\n"
     ]
    }
   ],
   "source": [
    "df[\"Temperature_C\"].fillna(df[\"Temperature_C\"].mean(),inplace=True)\n",
    "print(df[\"Temperature_C\"].isnull().sum())"
   ]
  },
  {
   "cell_type": "code",
   "execution_count": 220,
   "metadata": {},
   "outputs": [
    {
     "data": {
      "text/plain": [
       "np.int64(97)"
      ]
     },
     "execution_count": 220,
     "metadata": {},
     "output_type": "execute_result"
    }
   ],
   "source": [
    "# for \"Heart_Rate\" column\n",
    "df[\"Heart_Rate\"].isnull().sum()  "
   ]
  },
  {
   "cell_type": "code",
   "execution_count": 221,
   "metadata": {},
   "outputs": [
    {
     "data": {
      "text/plain": [
       "<Axes: ylabel='Frequency'>"
      ]
     },
     "execution_count": 221,
     "metadata": {},
     "output_type": "execute_result"
    },
    {
     "data": {
      "image/png": "[encoded data removed]",
      "text/plain": [
       "<Figure size 640x480 with 1 Axes>"
      ]
     },
     "metadata": {},
     "output_type": "display_data"
    }
   ],
   "source": [
    "import matplotlib.pyplot as plt\n",
    "df[\"Heart_Rate\"].plot(kind='hist',bins=10)"
   ]
  },
  {
   "cell_type": "code",
   "execution_count": 222,
   "metadata": {},
   "outputs": [
    {
     "name": "stdout",
     "output_type": "stream",
     "text": [
      "0\n"
     ]
    }
   ],
   "source": [
    "df[\"Heart_Rate\"].fillna(df[\"Heart_Rate\"].mean(),inplace=True)\n",
    "print(df[\"Heart_Rate\"].isnull().sum())"
   ]
  },
  {
   "cell_type": "code",
   "execution_count": 223,
   "metadata": {},
   "outputs": [
    {
     "data": {
      "text/plain": [
       "np.int64(101)"
      ]
     },
     "execution_count": 223,
     "metadata": {},
     "output_type": "execute_result"
    }
   ],
   "source": [
    "# for \"Cholesterol_mg_dL\" column\n",
    "df[\"Cholesterol_mg_dL\"].isnull().sum()  "
   ]
  },
  {
   "cell_type": "code",
   "execution_count": 224,
   "metadata": {},
   "outputs": [
    {
     "data": {
      "text/plain": [
       "<Axes: ylabel='Frequency'>"
      ]
     },
     "execution_count": 224,
     "metadata": {},
     "output_type": "execute_result"
    },
    {
     "data": {
      "image/png": "[encoded data removed]",
      "text/plain": [
       "<Figure size 640x480 with 1 Axes>"
      ]
     },
     "metadata": {},
     "output_type": "display_data"
    }
   ],
   "source": [
    "import matplotlib.pyplot as plt\n",
    "df[\"Cholesterol_mg_dL\"].plot(kind='hist',bins=10)"
   ]
  },
  {
   "cell_type": "code",
   "execution_count": 225,
   "metadata": {},
   "outputs": [
    {
     "name": "stdout",
     "output_type": "stream",
     "text": [
      "0\n"
     ]
    }
   ],
   "source": [
    "df[\"Cholesterol_mg_dL\"].fillna(df[\"Cholesterol_mg_dL\"].mean(),inplace=True)\n",
    "print(df[\"Cholesterol_mg_dL\"].isnull().sum())"
   ]
  },
  {
   "cell_type": "code",
   "execution_count": 226,
   "metadata": {},
   "outputs": [
    {
     "data": {
      "text/plain": [
       "np.int64(120)"
      ]
     },
     "execution_count": 226,
     "metadata": {},
     "output_type": "execute_result"
    }
   ],
   "source": [
    "# for \"Blood_Sugar_mg_dL\" column\n",
    "df[\"Blood_Sugar_mg_dL\"].isnull().sum()  "
   ]
  },
  {
   "cell_type": "code",
   "execution_count": 227,
   "metadata": {},
   "outputs": [
    {
     "data": {
      "text/plain": [
       "<Axes: ylabel='Frequency'>"
      ]
     },
     "execution_count": 227,
     "metadata": {},
     "output_type": "execute_result"
    },
    {
     "data": {
      "image/png": "[encoded data removed]",
      "text/plain": [
       "<Figure size 640x480 with 1 Axes>"
      ]
     },
     "metadata": {},
     "output_type": "display_data"
    }
   ],
   "source": [
    "import matplotlib.pyplot as plt\n",
    "df[\"Blood_Sugar_mg_dL\"].plot(kind='hist',bins=10)"
   ]
  },
  {
   "cell_type": "code",
   "execution_count": 228,
   "metadata": {},
   "outputs": [
    {
     "name": "stdout",
     "output_type": "stream",
     "text": [
      "0\n"
     ]
    }
   ],
   "source": [
    "df[\"Blood_Sugar_mg_dL\"].fillna(df[\"Blood_Sugar_mg_dL\"].mean(),inplace=True)\n",
    "print(df[\"Blood_Sugar_mg_dL\"].isnull().sum())"
   ]
  },
  {
   "cell_type": "markdown",
   "metadata": {},
   "source": [
    "#  Checking for Missing Values in the each categorical Column"
   ]
  },
  {
   "cell_type": "code",
   "execution_count": 229,
   "metadata": {},
   "outputs": [
    {
     "data": {
      "text/plain": [
       "np.int64(512)"
      ]
     },
     "execution_count": 229,
     "metadata": {},
     "output_type": "execute_result"
    }
   ],
   "source": [
    "# Checking for missing values\n",
    "df[\"Disease_Predictions\"].isnull().sum()"
   ]
  },
  {
   "cell_type": "code",
   "execution_count": 230,
   "metadata": {},
   "outputs": [
    {
     "data": {
      "text/plain": [
       "array(['Heart Disease', 'Coronary Artery Disease', 'Arrhythmia', nan,\n",
       "       'Hypertension', 'Stroke'], dtype=object)"
      ]
     },
     "execution_count": 230,
     "metadata": {},
     "output_type": "execute_result"
    }
   ],
   "source": [
    "# Identify unique values\n",
    "df[\"Disease_Predictions\"].unique()"
   ]
  },
  {
   "cell_type": "code",
   "execution_count": 231,
   "metadata": {},
   "outputs": [
    {
     "data": {
      "text/plain": [
       "Existing_Conditions  Disease_Predictions    \n",
       "Asthma               Hypertension               266\n",
       "Diabetes             Heart Disease              269\n",
       "High Cholesterol     Arrhythmia                 267\n",
       "Hypertension         Coronary Artery Disease    261\n",
       "Name: count, dtype: int64"
      ]
     },
     "execution_count": 231,
     "metadata": {},
     "output_type": "execute_result"
    }
   ],
   "source": [
    "# Group Analysis\n",
    "df.groupby('Existing_Conditions')[\"Disease_Predictions\"].value_counts()"
   ]
  },
  {
   "cell_type": "code",
   "execution_count": 232,
   "metadata": {},
   "outputs": [],
   "source": [
    "# Conditionally filling missing values\n",
    "df.loc[(df[\"Existing_Conditions\"] == \"Diabetes\") & (df[\"Disease_Predictions\"].isna()), \"Disease_Predictions\"] = \"Heart Disease\""
   ]
  },
  {
   "cell_type": "code",
   "execution_count": 233,
   "metadata": {},
   "outputs": [
    {
     "data": {
      "text/plain": [
       "np.int64(512)"
      ]
     },
     "execution_count": 233,
     "metadata": {},
     "output_type": "execute_result"
    }
   ],
   "source": [
    "# Checking Missing Values\n",
    "df[\"Existing_Conditions\"].isnull().sum()"
   ]
  },
  {
   "cell_type": "code",
   "execution_count": 234,
   "metadata": {},
   "outputs": [
    {
     "data": {
      "text/plain": [
       "array(['Diabetes', 'Hypertension', 'High Cholesterol', nan, 'Asthma',\n",
       "       'Thyroid'], dtype=object)"
      ]
     },
     "execution_count": 234,
     "metadata": {},
     "output_type": "execute_result"
    }
   ],
   "source": [
    "# Identify unique values\n",
    "df[\"Existing_Conditions\"].unique()"
   ]
  },
  {
   "cell_type": "code",
   "execution_count": 235,
   "metadata": {},
   "outputs": [
    {
     "data": {
      "text/plain": [
       "Disease_Predictions      Existing_Conditions\n",
       "Arrhythmia               High Cholesterol       267\n",
       "Coronary Artery Disease  Hypertension           261\n",
       "Heart Disease            Diabetes               299\n",
       "Hypertension             Asthma                 266\n",
       "Name: count, dtype: int64"
      ]
     },
     "execution_count": 235,
     "metadata": {},
     "output_type": "execute_result"
    }
   ],
   "source": [
    "# Group Analysis\n",
    "df.groupby('Disease_Predictions')[\"Existing_Conditions\"].value_counts()"
   ]
  },
  {
   "cell_type": "code",
   "execution_count": 236,
   "metadata": {},
   "outputs": [],
   "source": [
    "# Conditionally filling missing values\n",
    "df.loc[(df[\"Disease_Predictions\"] == \"Heart Disease\") & (df[\"Existing_Conditions\"].isna()), \"Existing_Conditions\"] = \"Diabetes\""
   ]
  },
  {
   "cell_type": "code",
   "execution_count": 237,
   "metadata": {},
   "outputs": [
    {
     "data": {
      "text/plain": [
       "np.int64(360)"
      ]
     },
     "execution_count": 237,
     "metadata": {},
     "output_type": "execute_result"
    }
   ],
   "source": [
    "# Checking Missing Values\n",
    "df[\"Blood_Pressure\"].isnull().sum()"
   ]
  },
  {
   "cell_type": "code",
   "execution_count": 238,
   "metadata": {},
   "outputs": [
    {
     "data": {
      "text/plain": [
       "array(['120/80', '130/85', '140/90', '125/82', '135/88', '145/92', nan],\n",
       "      dtype=object)"
      ]
     },
     "execution_count": 238,
     "metadata": {},
     "output_type": "execute_result"
    }
   ],
   "source": [
    "# Identify unique values\n",
    "df[\"Blood_Pressure\"].unique()"
   ]
  },
  {
   "cell_type": "code",
   "execution_count": 239,
   "metadata": {},
   "outputs": [
    {
     "data": {
      "text/plain": [
       "Disease_Predictions      Blood_Pressure\n",
       "Arrhythmia               140/90            44\n",
       "                         120/80            40\n",
       "                         130/85            40\n",
       "                         135/88            40\n",
       "                         145/92            40\n",
       "                         125/82            36\n",
       "Coronary Artery Disease  135/88            45\n",
       "                         125/82            41\n",
       "                         130/85            41\n",
       "                         120/80            40\n",
       "                         145/92            40\n",
       "                         140/90            39\n",
       "Heart Disease            135/88            47\n",
       "                         125/82            46\n",
       "                         130/85            46\n",
       "                         120/80            45\n",
       "                         140/90            44\n",
       "                         145/92            43\n",
       "Hypertension             130/85            46\n",
       "                         140/90            43\n",
       "                         135/88            42\n",
       "                         145/92            42\n",
       "                         125/82            40\n",
       "                         120/80            39\n",
       "Stroke                   120/80            42\n",
       "                         125/82            42\n",
       "                         135/88            40\n",
       "                         145/92            40\n",
       "                         130/85            39\n",
       "                         140/90            38\n",
       "Name: count, dtype: int64"
      ]
     },
     "execution_count": 239,
     "metadata": {},
     "output_type": "execute_result"
    }
   ],
   "source": [
    "# Group Analysis\n",
    "df.groupby('Disease_Predictions')[\"Blood_Pressure\"].value_counts()"
   ]
  },
  {
   "cell_type": "code",
   "execution_count": 240,
   "metadata": {},
   "outputs": [],
   "source": [
    "# Conditionally filling missing values\n",
    "df.loc[(df[\"Disease_Predictions\"] == \"Stroke\") & (df[\"Blood_Pressure\"].isna()), \"Blood_Pressure\"] = \"High\""
   ]
  },
  {
   "cell_type": "code",
   "execution_count": 241,
   "metadata": {},
   "outputs": [
    {
     "data": {
      "text/plain": [
       "np.int64(89)"
      ]
     },
     "execution_count": 241,
     "metadata": {},
     "output_type": "execute_result"
    }
   ],
   "source": [
    "# Checking Missing Values\n",
    "df[\"Smoking_Status\"].isnull().sum()"
   ]
  },
  {
   "cell_type": "code",
   "execution_count": 242,
   "metadata": {},
   "outputs": [
    {
     "data": {
      "text/plain": [
       "array(['Never', 'Former', 'Current', nan], dtype=object)"
      ]
     },
     "execution_count": 242,
     "metadata": {},
     "output_type": "execute_result"
    }
   ],
   "source": [
    "# Identify unique values\n",
    "df[\"Smoking_Status\"].unique()"
   ]
  },
  {
   "cell_type": "code",
   "execution_count": 243,
   "metadata": {},
   "outputs": [
    {
     "data": {
      "text/plain": [
       "Disease_Predictions      Smoking_Status\n",
       "Arrhythmia               Current           284\n",
       "Coronary Artery Disease  Former            282\n",
       "Heart Disease            Never             316\n",
       "Hypertension             Former            288\n",
       "Stroke                   Never             277\n",
       "Name: count, dtype: int64"
      ]
     },
     "execution_count": 243,
     "metadata": {},
     "output_type": "execute_result"
    }
   ],
   "source": [
    "# Group Analysis\n",
    "df.groupby('Disease_Predictions')[\"Smoking_Status\"].value_counts()"
   ]
  },
  {
   "cell_type": "code",
   "execution_count": 244,
   "metadata": {},
   "outputs": [],
   "source": [
    "# Conditionally filling missing values\n",
    "df.loc[(df[\"Disease_Predictions\"] == \"Lung Disease\") & (df[\"Smoking_Status\"].isna()), \"Smoking_Status\"] = \"Current Smoker\""
   ]
  },
  {
   "cell_type": "code",
   "execution_count": 245,
   "metadata": {},
   "outputs": [
    {
     "data": {
      "text/plain": [
       "np.int64(109)"
      ]
     },
     "execution_count": 245,
     "metadata": {},
     "output_type": "execute_result"
    }
   ],
   "source": [
    "# Checking Missing Values\n",
    "df[\"Family_History_Heart_Disease\"].isnull().sum()"
   ]
  },
  {
   "cell_type": "code",
   "execution_count": 246,
   "metadata": {},
   "outputs": [
    {
     "data": {
      "text/plain": [
       "array(['Yes', 'No', nan], dtype=object)"
      ]
     },
     "execution_count": 246,
     "metadata": {},
     "output_type": "execute_result"
    }
   ],
   "source": [
    "# Identify unique values\n",
    "df[\"Family_History_Heart_Disease\"].unique()"
   ]
  },
  {
   "cell_type": "code",
   "execution_count": 247,
   "metadata": {},
   "outputs": [
    {
     "data": {
      "text/plain": [
       "Disease_Predictions      Family_History_Heart_Disease\n",
       "Arrhythmia               Yes                             279\n",
       "Coronary Artery Disease  No                              278\n",
       "Heart Disease            Yes                             312\n",
       "Hypertension             Yes                             286\n",
       "Stroke                   No                              276\n",
       "Name: count, dtype: int64"
      ]
     },
     "execution_count": 247,
     "metadata": {},
     "output_type": "execute_result"
    }
   ],
   "source": [
    "# Group Analysis\n",
    "df.groupby('Disease_Predictions')[\"Family_History_Heart_Disease\"].value_counts()"
   ]
  },
  {
   "cell_type": "code",
   "execution_count": 248,
   "metadata": {},
   "outputs": [],
   "source": [
    "# Conditionally filling missing values\n",
    "df.loc[(df[\"Disease_Predictions\"] == \"Heart Disease\") & (df[\"Family_History_Heart_Disease\"].isna()), \"Family_History_Heart_Disease\"] = \"Yes\""
   ]
  },
  {
   "cell_type": "code",
   "execution_count": 249,
   "metadata": {},
   "outputs": [
    {
     "data": {
      "text/plain": [
       "np.int64(495)"
      ]
     },
     "execution_count": 249,
     "metadata": {},
     "output_type": "execute_result"
    }
   ],
   "source": [
    "# Checking Missing Values\n",
    "df[\"Laboratory_Test_Results\"].isnull().sum()"
   ]
  },
  {
   "cell_type": "code",
   "execution_count": 250,
   "metadata": {},
   "outputs": [
    {
     "data": {
      "text/plain": [
       "array(['High Cholesterol', nan, 'Normal', 'High Blood Sugar', 'Low Iron'],\n",
       "      dtype=object)"
      ]
     },
     "execution_count": 250,
     "metadata": {},
     "output_type": "execute_result"
    }
   ],
   "source": [
    "# Identify unique values\n",
    "df[\"Laboratory_Test_Results\"].unique()"
   ]
  },
  {
   "cell_type": "code",
   "execution_count": 251,
   "metadata": {},
   "outputs": [
    {
     "data": {
      "text/plain": [
       "Existing_Conditions  Laboratory_Test_Results\n",
       "Asthma               High Cholesterol           58\n",
       "                     Normal                     57\n",
       "                     High Blood Sugar           53\n",
       "                     Low Iron                   51\n",
       "Diabetes             High Blood Sugar           63\n",
       "                     Normal                     63\n",
       "                     High Cholesterol           62\n",
       "                     Low Iron                   61\n",
       "High Cholesterol     Low Iron                   57\n",
       "                     High Blood Sugar           56\n",
       "                     Normal                     55\n",
       "                     High Cholesterol           52\n",
       "Hypertension         High Blood Sugar           57\n",
       "                     High Cholesterol           56\n",
       "                     Low Iron                   56\n",
       "                     Normal                     54\n",
       "Thyroid              High Blood Sugar           63\n",
       "                     High Cholesterol           58\n",
       "                     Low Iron                   56\n",
       "                     Normal                     56\n",
       "Name: count, dtype: int64"
      ]
     },
     "execution_count": 251,
     "metadata": {},
     "output_type": "execute_result"
    }
   ],
   "source": [
    "# Group Analysis\n",
    "df.groupby('Existing_Conditions')[\"Laboratory_Test_Results\"].value_counts()"
   ]
  },
  {
   "cell_type": "code",
   "execution_count": 252,
   "metadata": {},
   "outputs": [],
   "source": [
    "# Conditionally filling missing values\n",
    "df.loc[(df[\"Existing_Conditions\"] == \"Hypercholesterolemia\") & (df[\"Laboratory_Test_Results\"].isna()), \"Laboratory_Test_Results\"] = \"High Cholesterol\""
   ]
  },
  {
   "cell_type": "code",
   "execution_count": 253,
   "metadata": {},
   "outputs": [
    {
     "data": {
      "text/plain": [
       "np.int64(438)"
      ]
     },
     "execution_count": 253,
     "metadata": {},
     "output_type": "execute_result"
    }
   ],
   "source": [
    "# Checking Missing Values\n",
    "df[\"Symptoms\"].isnull().sum()"
   ]
  },
  {
   "cell_type": "code",
   "execution_count": 254,
   "metadata": {},
   "outputs": [
    {
     "data": {
      "text/plain": [
       "array(['chest pain', 'shortness of breath', 'fatigue', 'dizziness',\n",
       "       'palpitations', 'nausea', nan], dtype=object)"
      ]
     },
     "execution_count": 254,
     "metadata": {},
     "output_type": "execute_result"
    }
   ],
   "source": [
    "# Identify unique values\n",
    "df[\"Symptoms\"].unique()"
   ]
  },
  {
   "cell_type": "code",
   "execution_count": 255,
   "metadata": {},
   "outputs": [
    {
     "data": {
      "text/plain": [
       "Disease_Predictions      Symptoms           \n",
       "Arrhythmia               fatigue                45\n",
       "                         nausea                 40\n",
       "                         chest pain             38\n",
       "                         dizziness              36\n",
       "                         palpitations           36\n",
       "                         shortness of breath    34\n",
       "Coronary Artery Disease  palpitations           44\n",
       "                         dizziness              40\n",
       "                         fatigue                38\n",
       "                         shortness of breath    38\n",
       "                         chest pain             37\n",
       "                         nausea                 37\n",
       "Heart Disease            shortness of breath    45\n",
       "                         fatigue                43\n",
       "                         nausea                 43\n",
       "                         palpitations           43\n",
       "                         dizziness              42\n",
       "                         chest pain             41\n",
       "Hypertension             nausea                 42\n",
       "                         palpitations           40\n",
       "                         fatigue                39\n",
       "                         shortness of breath    39\n",
       "                         dizziness              38\n",
       "                         chest pain             37\n",
       "Stroke                   chest pain             41\n",
       "                         nausea                 41\n",
       "                         shortness of breath    40\n",
       "                         fatigue                37\n",
       "                         palpitations           36\n",
       "                         dizziness              35\n",
       "Name: count, dtype: int64"
      ]
     },
     "execution_count": 255,
     "metadata": {},
     "output_type": "execute_result"
    }
   ],
   "source": [
    "# Group Analysis\n",
    "df.groupby('Disease_Predictions')[\"Symptoms\"].value_counts()"
   ]
  },
  {
   "cell_type": "code",
   "execution_count": 256,
   "metadata": {},
   "outputs": [],
   "source": [
    "# Conditionally filling missing values\n",
    "df.loc[(df[\"Disease_Predictions\"] == \"Heart Disease\") & (df[\"Symptoms\"].isna()), \"Symptoms\"] = \"Chest Pain\""
   ]
  },
  {
   "cell_type": "markdown",
   "metadata": {},
   "source": [
    "# Filling remaining columns using one-hot encoding"
   ]
  },
  {
   "cell_type": "code",
   "execution_count": 257,
   "metadata": {},
   "outputs": [
    {
     "name": "stdout",
     "output_type": "stream",
     "text": [
      "Remaining missing values:\n",
      " Blood_Pressure                  308\n",
      "Symptoms                        363\n",
      "Existing_Conditions             479\n",
      "Disease_Predictions             482\n",
      "Laboratory_Test_Results         495\n",
      "Family_History_Heart_Disease     89\n",
      "Smoking_Status                   89\n",
      "dtype: int64\n"
     ]
    }
   ],
   "source": [
    "# Checking for Remaining Missing Values\n",
    "missing_values = df.isnull().sum()\n",
    "print(\"Remaining missing values:\\n\", missing_values[missing_values > 0])"
   ]
  },
  {
   "cell_type": "code",
   "execution_count": 258,
   "metadata": {},
   "outputs": [],
   "source": [
    "# categorical columns with remaining missing values\n",
    "missing_value_columns = ['Blood_Pressure', 'Symptoms', 'Existing_Conditions', \n",
    "                         'Disease_Predictions', 'Laboratory_Test_Results', \n",
    "                         'Family_History_Heart_Disease', 'Smoking_Status']"
   ]
  },
  {
   "cell_type": "code",
   "execution_count": 259,
   "metadata": {},
   "outputs": [],
   "source": [
    "# Filling missing values in these columns with 'Unknown'\n",
    "for col in missing_value_columns:\n",
    "    df[col].fillna('Unknown')"
   ]
  },
  {
   "cell_type": "code",
   "execution_count": 260,
   "metadata": {},
   "outputs": [],
   "source": [
    "# Applying one-hot encoding to these columns\n",
    "df_encoded = pd.get_dummies(df, columns=missing_value_columns, drop_first=True)"
   ]
  },
  {
   "cell_type": "code",
   "execution_count": 261,
   "metadata": {},
   "outputs": [
    {
     "name": "stdout",
     "output_type": "stream",
     "text": [
      "  Patient_ID  Height_cm  Weight_kg  Temperature_C  Heart_Rate  \\\n",
      "0      P0001  174.00000       59.0           36.6        63.0   \n",
      "1      P0002  169.90235       67.0           37.0        68.0   \n",
      "2      P0003  176.00000       58.0           37.0        65.0   \n",
      "3      P0004  185.00000       65.0           37.2        69.0   \n",
      "4      P0005  167.00000       41.0           36.3        72.0   \n",
      "\n",
      "   Cholesterol_mg_dL  Blood_Sugar_mg_dL  Blood_Pressure_125/82  \\\n",
      "0              198.0               79.0                  False   \n",
      "1              179.0               90.0                  False   \n",
      "2              193.0               82.0                  False   \n",
      "3              228.0              103.0                   True   \n",
      "4              251.0              135.0                  False   \n",
      "\n",
      "   Blood_Pressure_130/85  Blood_Pressure_135/88  ...  \\\n",
      "0                  False                  False  ...   \n",
      "1                   True                  False  ...   \n",
      "2                  False                  False  ...   \n",
      "3                  False                  False  ...   \n",
      "4                  False                   True  ...   \n",
      "\n",
      "   Disease_Predictions_Coronary Artery Disease  \\\n",
      "0                                        False   \n",
      "1                                         True   \n",
      "2                                        False   \n",
      "3                                        False   \n",
      "4                                        False   \n",
      "\n",
      "   Disease_Predictions_Heart Disease  Disease_Predictions_Hypertension  \\\n",
      "0                               True                             False   \n",
      "1                              False                             False   \n",
      "2                              False                             False   \n",
      "3                              False                             False   \n",
      "4                              False                              True   \n",
      "\n",
      "   Disease_Predictions_Stroke  Laboratory_Test_Results_High Cholesterol  \\\n",
      "0                       False                                      True   \n",
      "1                       False                                     False   \n",
      "2                       False                                     False   \n",
      "3                       False                                     False   \n",
      "4                       False                                     False   \n",
      "\n",
      "   Laboratory_Test_Results_Low Iron  Laboratory_Test_Results_Normal  \\\n",
      "0                             False                           False   \n",
      "1                             False                           False   \n",
      "2                             False                            True   \n",
      "3                             False                           False   \n",
      "4                             False                           False   \n",
      "\n",
      "   Family_History_Heart_Disease_Yes  Smoking_Status_Former  \\\n",
      "0                              True                  False   \n",
      "1                             False                   True   \n",
      "2                             False                  False   \n",
      "3                             False                  False   \n",
      "4                              True                   True   \n",
      "\n",
      "   Smoking_Status_Never  \n",
      "0                  True  \n",
      "1                 False  \n",
      "2                 False  \n",
      "3                  True  \n",
      "4                 False  \n",
      "\n",
      "[5 rows x 33 columns]\n"
     ]
    }
   ],
   "source": [
    "print(df_encoded.head())"
   ]
  },
  {
   "cell_type": "code",
   "execution_count": 262,
   "metadata": {},
   "outputs": [
    {
     "data": {
      "text/plain": [
       "Patient_ID                        0\n",
       "Height_cm                         0\n",
       "Weight_kg                         0\n",
       "Blood_Pressure                  308\n",
       "Temperature_C                     0\n",
       "Heart_Rate                        0\n",
       "Symptoms                        363\n",
       "Existing_Conditions             479\n",
       "Disease_Predictions             482\n",
       "Laboratory_Test_Results         495\n",
       "Cholesterol_mg_dL                 0\n",
       "Blood_Sugar_mg_dL                 0\n",
       "Family_History_Heart_Disease     89\n",
       "Smoking_Status                   89\n",
       "dtype: int64"
      ]
     },
     "execution_count": 262,
     "metadata": {},
     "output_type": "execute_result"
    }
   ],
   "source": [
    "df.isnull().sum()"
   ]
  },
  {
   "cell_type": "code",
   "execution_count": 263,
   "metadata": {},
   "outputs": [
    {
     "data": {
      "image/png": "[encoded data removed]",
      "text/plain": [
       "<Figure size 640x480 with 1 Axes>"
      ]
     },
     "metadata": {},
     "output_type": "display_data"
    }
   ],
   "source": [
    "import matplotlib.pyplot as plt\n",
    "import seaborn as sns\n",
    "\n",
    "sns.countplot(data=df, x='Symptoms')\n",
    "plt.xticks(rotation=90)  \n",
    "plt.title('Distribution of Symptoms')\n",
    "plt.show()\n"
   ]
  },
  {
   "cell_type": "code",
   "execution_count": 264,
   "metadata": {},
   "outputs": [
    {
     "data": {
      "text/plain": [
       "Patient_ID                        0\n",
       "Height_cm                         0\n",
       "Weight_kg                         0\n",
       "Blood_Pressure                  308\n",
       "Temperature_C                     0\n",
       "Heart_Rate                        0\n",
       "Symptoms                          0\n",
       "Existing_Conditions             479\n",
       "Disease_Predictions             482\n",
       "Laboratory_Test_Results         495\n",
       "Cholesterol_mg_dL                 0\n",
       "Blood_Sugar_mg_dL                 0\n",
       "Family_History_Heart_Disease     89\n",
       "Smoking_Status                   89\n",
       "dtype: int64"
      ]
     },
     "execution_count": 264,
     "metadata": {},
     "output_type": "execute_result"
    }
   ],
   "source": [
    "\n",
    "mode_value = df['Symptoms'].mode()[0] \n",
    "df['Symptoms'] = df['Symptoms'].fillna(mode_value)\n",
    "\n",
    "df.head()\n",
    "df.isnull().sum()\n"
   ]
  },
  {
   "cell_type": "code",
   "execution_count": 265,
   "metadata": {},
   "outputs": [
    {
     "data": {
      "text/html": [
       "<div>\n",
       "<style scoped>\n",
       "    .dataframe tbody tr th:only-of-type {\n",
       "        vertical-align: middle;\n",
       "    }\n",
       "\n",
       "    .dataframe tbody tr th {\n",
       "        vertical-align: top;\n",
       "    }\n",
       "\n",
       "    .dataframe thead th {\n",
       "        text-align: right;\n",
       "    }\n",
       "</style>\n",
       "<table border=\"1\" class=\"dataframe\">\n",
       "  <thead>\n",
       "    <tr style=\"text-align: right;\">\n",
       "      <th></th>\n",
       "      <th>Patient_ID</th>\n",
       "      <th>Height_cm</th>\n",
       "      <th>Weight_kg</th>\n",
       "      <th>Blood_Pressure</th>\n",
       "      <th>Temperature_C</th>\n",
       "      <th>Heart_Rate</th>\n",
       "      <th>Existing_Conditions</th>\n",
       "      <th>Disease_Predictions</th>\n",
       "      <th>Laboratory_Test_Results</th>\n",
       "      <th>Cholesterol_mg_dL</th>\n",
       "      <th>Blood_Sugar_mg_dL</th>\n",
       "      <th>Family_History_Heart_Disease</th>\n",
       "      <th>Smoking_Status</th>\n",
       "      <th>Symptoms_Chest Pain</th>\n",
       "      <th>Symptoms_chest pain</th>\n",
       "      <th>Symptoms_dizziness</th>\n",
       "      <th>Symptoms_fatigue</th>\n",
       "      <th>Symptoms_nausea</th>\n",
       "      <th>Symptoms_palpitations</th>\n",
       "      <th>Symptoms_shortness of breath</th>\n",
       "    </tr>\n",
       "  </thead>\n",
       "  <tbody>\n",
       "    <tr>\n",
       "      <th>0</th>\n",
       "      <td>P0001</td>\n",
       "      <td>174.00000</td>\n",
       "      <td>59.0</td>\n",
       "      <td>120/80</td>\n",
       "      <td>36.6</td>\n",
       "      <td>63.0</td>\n",
       "      <td>Diabetes</td>\n",
       "      <td>Heart Disease</td>\n",
       "      <td>High Cholesterol</td>\n",
       "      <td>198.0</td>\n",
       "      <td>79.0</td>\n",
       "      <td>Yes</td>\n",
       "      <td>Never</td>\n",
       "      <td>False</td>\n",
       "      <td>True</td>\n",
       "      <td>False</td>\n",
       "      <td>False</td>\n",
       "      <td>False</td>\n",
       "      <td>False</td>\n",
       "      <td>False</td>\n",
       "    </tr>\n",
       "    <tr>\n",
       "      <th>1</th>\n",
       "      <td>P0002</td>\n",
       "      <td>169.90235</td>\n",
       "      <td>67.0</td>\n",
       "      <td>130/85</td>\n",
       "      <td>37.0</td>\n",
       "      <td>68.0</td>\n",
       "      <td>Hypertension</td>\n",
       "      <td>Coronary Artery Disease</td>\n",
       "      <td>NaN</td>\n",
       "      <td>179.0</td>\n",
       "      <td>90.0</td>\n",
       "      <td>No</td>\n",
       "      <td>Former</td>\n",
       "      <td>False</td>\n",
       "      <td>False</td>\n",
       "      <td>False</td>\n",
       "      <td>False</td>\n",
       "      <td>False</td>\n",
       "      <td>False</td>\n",
       "      <td>True</td>\n",
       "    </tr>\n",
       "    <tr>\n",
       "      <th>2</th>\n",
       "      <td>P0003</td>\n",
       "      <td>176.00000</td>\n",
       "      <td>58.0</td>\n",
       "      <td>140/90</td>\n",
       "      <td>37.0</td>\n",
       "      <td>65.0</td>\n",
       "      <td>High Cholesterol</td>\n",
       "      <td>Arrhythmia</td>\n",
       "      <td>Normal</td>\n",
       "      <td>193.0</td>\n",
       "      <td>82.0</td>\n",
       "      <td>NaN</td>\n",
       "      <td>Current</td>\n",
       "      <td>False</td>\n",
       "      <td>False</td>\n",
       "      <td>False</td>\n",
       "      <td>True</td>\n",
       "      <td>False</td>\n",
       "      <td>False</td>\n",
       "      <td>False</td>\n",
       "    </tr>\n",
       "    <tr>\n",
       "      <th>3</th>\n",
       "      <td>P0004</td>\n",
       "      <td>185.00000</td>\n",
       "      <td>65.0</td>\n",
       "      <td>125/82</td>\n",
       "      <td>37.2</td>\n",
       "      <td>69.0</td>\n",
       "      <td>NaN</td>\n",
       "      <td>NaN</td>\n",
       "      <td>NaN</td>\n",
       "      <td>228.0</td>\n",
       "      <td>103.0</td>\n",
       "      <td>No</td>\n",
       "      <td>Never</td>\n",
       "      <td>False</td>\n",
       "      <td>False</td>\n",
       "      <td>True</td>\n",
       "      <td>False</td>\n",
       "      <td>False</td>\n",
       "      <td>False</td>\n",
       "      <td>False</td>\n",
       "    </tr>\n",
       "    <tr>\n",
       "      <th>4</th>\n",
       "      <td>P0005</td>\n",
       "      <td>167.00000</td>\n",
       "      <td>41.0</td>\n",
       "      <td>135/88</td>\n",
       "      <td>36.3</td>\n",
       "      <td>72.0</td>\n",
       "      <td>Asthma</td>\n",
       "      <td>Hypertension</td>\n",
       "      <td>NaN</td>\n",
       "      <td>251.0</td>\n",
       "      <td>135.0</td>\n",
       "      <td>Yes</td>\n",
       "      <td>Former</td>\n",
       "      <td>False</td>\n",
       "      <td>False</td>\n",
       "      <td>False</td>\n",
       "      <td>False</td>\n",
       "      <td>False</td>\n",
       "      <td>True</td>\n",
       "      <td>False</td>\n",
       "    </tr>\n",
       "  </tbody>\n",
       "</table>\n",
       "</div>"
      ],
      "text/plain": [
       "  Patient_ID  Height_cm  Weight_kg Blood_Pressure  Temperature_C  Heart_Rate  \\\n",
       "0      P0001  174.00000       59.0         120/80           36.6        63.0   \n",
       "1      P0002  169.90235       67.0         130/85           37.0        68.0   \n",
       "2      P0003  176.00000       58.0         140/90           37.0        65.0   \n",
       "3      P0004  185.00000       65.0         125/82           37.2        69.0   \n",
       "4      P0005  167.00000       41.0         135/88           36.3        72.0   \n",
       "\n",
       "  Existing_Conditions      Disease_Predictions Laboratory_Test_Results  \\\n",
       "0            Diabetes            Heart Disease        High Cholesterol   \n",
       "1        Hypertension  Coronary Artery Disease                     NaN   \n",
       "2    High Cholesterol               Arrhythmia                  Normal   \n",
       "3                 NaN                      NaN                     NaN   \n",
       "4              Asthma             Hypertension                     NaN   \n",
       "\n",
       "   Cholesterol_mg_dL  Blood_Sugar_mg_dL Family_History_Heart_Disease  \\\n",
       "0              198.0               79.0                          Yes   \n",
       "1              179.0               90.0                           No   \n",
       "2              193.0               82.0                          NaN   \n",
       "3              228.0              103.0                           No   \n",
       "4              251.0              135.0                          Yes   \n",
       "\n",
       "  Smoking_Status  Symptoms_Chest Pain  Symptoms_chest pain  \\\n",
       "0          Never                False                 True   \n",
       "1         Former                False                False   \n",
       "2        Current                False                False   \n",
       "3          Never                False                False   \n",
       "4         Former                False                False   \n",
       "\n",
       "   Symptoms_dizziness  Symptoms_fatigue  Symptoms_nausea  \\\n",
       "0               False             False            False   \n",
       "1               False             False            False   \n",
       "2               False              True            False   \n",
       "3                True             False            False   \n",
       "4               False             False            False   \n",
       "\n",
       "   Symptoms_palpitations  Symptoms_shortness of breath  \n",
       "0                  False                         False  \n",
       "1                  False                          True  \n",
       "2                  False                         False  \n",
       "3                  False                         False  \n",
       "4                   True                         False  "
      ]
     },
     "execution_count": 265,
     "metadata": {},
     "output_type": "execute_result"
    }
   ],
   "source": [
    "\n",
    "df = pd.get_dummies(df, columns=['Symptoms'])\n",
    "df.head()"
   ]
  },
  {
   "cell_type": "code",
   "execution_count": 266,
   "metadata": {},
   "outputs": [
    {
     "data": {
      "image/png": "[encoded data removed]",
      "text/plain": [
       "<Figure size 640x480 with 1 Axes>"
      ]
     },
     "metadata": {},
     "output_type": "display_data"
    }
   ],
   "source": [
    "\n",
    "\n",
    "import matplotlib.pyplot as plt\n",
    "import seaborn as sns\n",
    "\n",
    "sns.countplot(data=df, x='Existing_Conditions')\n",
    "plt.xticks(rotation=90) \n",
    "plt.title('Distribution of Existing conditions')\n",
    "plt.show()\n"
   ]
  },
  {
   "cell_type": "code",
   "execution_count": 267,
   "metadata": {},
   "outputs": [
    {
     "data": {
      "text/plain": [
       "Patient_ID                        0\n",
       "Height_cm                         0\n",
       "Weight_kg                         0\n",
       "Blood_Pressure                  308\n",
       "Temperature_C                     0\n",
       "Heart_Rate                        0\n",
       "Existing_Conditions               0\n",
       "Disease_Predictions             482\n",
       "Laboratory_Test_Results         495\n",
       "Cholesterol_mg_dL                 0\n",
       "Blood_Sugar_mg_dL                 0\n",
       "Family_History_Heart_Disease     89\n",
       "Smoking_Status                   89\n",
       "Symptoms_Chest Pain               0\n",
       "Symptoms_chest pain               0\n",
       "Symptoms_dizziness                0\n",
       "Symptoms_fatigue                  0\n",
       "Symptoms_nausea                   0\n",
       "Symptoms_palpitations             0\n",
       "Symptoms_shortness of breath      0\n",
       "dtype: int64"
      ]
     },
     "execution_count": 267,
     "metadata": {},
     "output_type": "execute_result"
    }
   ],
   "source": [
    "\n",
    "mode_value = df['Existing_Conditions'].mode()[0]  \n",
    "\n",
    "df['Existing_Conditions'] = df['Existing_Conditions'].fillna(mode_value)\n",
    "\n",
    "df.isnull().sum()"
   ]
  },
  {
   "cell_type": "code",
   "execution_count": 268,
   "metadata": {},
   "outputs": [
    {
     "data": {
      "text/html": [
       "<div>\n",
       "<style scoped>\n",
       "    .dataframe tbody tr th:only-of-type {\n",
       "        vertical-align: middle;\n",
       "    }\n",
       "\n",
       "    .dataframe tbody tr th {\n",
       "        vertical-align: top;\n",
       "    }\n",
       "\n",
       "    .dataframe thead th {\n",
       "        text-align: right;\n",
       "    }\n",
       "</style>\n",
       "<table border=\"1\" class=\"dataframe\">\n",
       "  <thead>\n",
       "    <tr style=\"text-align: right;\">\n",
       "      <th></th>\n",
       "      <th>Patient_ID</th>\n",
       "      <th>Height_cm</th>\n",
       "      <th>Weight_kg</th>\n",
       "      <th>Blood_Pressure</th>\n",
       "      <th>Temperature_C</th>\n",
       "      <th>Heart_Rate</th>\n",
       "      <th>Disease_Predictions</th>\n",
       "      <th>Laboratory_Test_Results</th>\n",
       "      <th>Cholesterol_mg_dL</th>\n",
       "      <th>Blood_Sugar_mg_dL</th>\n",
       "      <th>...</th>\n",
       "      <th>Symptoms_dizziness</th>\n",
       "      <th>Symptoms_fatigue</th>\n",
       "      <th>Symptoms_nausea</th>\n",
       "      <th>Symptoms_palpitations</th>\n",
       "      <th>Symptoms_shortness of breath</th>\n",
       "      <th>Existing_Conditions_Asthma</th>\n",
       "      <th>Existing_Conditions_Diabetes</th>\n",
       "      <th>Existing_Conditions_High Cholesterol</th>\n",
       "      <th>Existing_Conditions_Hypertension</th>\n",
       "      <th>Existing_Conditions_Thyroid</th>\n",
       "    </tr>\n",
       "  </thead>\n",
       "  <tbody>\n",
       "    <tr>\n",
       "      <th>0</th>\n",
       "      <td>P0001</td>\n",
       "      <td>174.00000</td>\n",
       "      <td>59.0</td>\n",
       "      <td>120/80</td>\n",
       "      <td>36.6</td>\n",
       "      <td>63.0</td>\n",
       "      <td>Heart Disease</td>\n",
       "      <td>High Cholesterol</td>\n",
       "      <td>198.0</td>\n",
       "      <td>79.0</td>\n",
       "      <td>...</td>\n",
       "      <td>False</td>\n",
       "      <td>False</td>\n",
       "      <td>False</td>\n",
       "      <td>False</td>\n",
       "      <td>False</td>\n",
       "      <td>False</td>\n",
       "      <td>True</td>\n",
       "      <td>False</td>\n",
       "      <td>False</td>\n",
       "      <td>False</td>\n",
       "    </tr>\n",
       "    <tr>\n",
       "      <th>1</th>\n",
       "      <td>P0002</td>\n",
       "      <td>169.90235</td>\n",
       "      <td>67.0</td>\n",
       "      <td>130/85</td>\n",
       "      <td>37.0</td>\n",
       "      <td>68.0</td>\n",
       "      <td>Coronary Artery Disease</td>\n",
       "      <td>NaN</td>\n",
       "      <td>179.0</td>\n",
       "      <td>90.0</td>\n",
       "      <td>...</td>\n",
       "      <td>False</td>\n",
       "      <td>False</td>\n",
       "      <td>False</td>\n",
       "      <td>False</td>\n",
       "      <td>True</td>\n",
       "      <td>False</td>\n",
       "      <td>False</td>\n",
       "      <td>False</td>\n",
       "      <td>True</td>\n",
       "      <td>False</td>\n",
       "    </tr>\n",
       "    <tr>\n",
       "      <th>2</th>\n",
       "      <td>P0003</td>\n",
       "      <td>176.00000</td>\n",
       "      <td>58.0</td>\n",
       "      <td>140/90</td>\n",
       "      <td>37.0</td>\n",
       "      <td>65.0</td>\n",
       "      <td>Arrhythmia</td>\n",
       "      <td>Normal</td>\n",
       "      <td>193.0</td>\n",
       "      <td>82.0</td>\n",
       "      <td>...</td>\n",
       "      <td>False</td>\n",
       "      <td>True</td>\n",
       "      <td>False</td>\n",
       "      <td>False</td>\n",
       "      <td>False</td>\n",
       "      <td>False</td>\n",
       "      <td>False</td>\n",
       "      <td>True</td>\n",
       "      <td>False</td>\n",
       "      <td>False</td>\n",
       "    </tr>\n",
       "    <tr>\n",
       "      <th>3</th>\n",
       "      <td>P0004</td>\n",
       "      <td>185.00000</td>\n",
       "      <td>65.0</td>\n",
       "      <td>125/82</td>\n",
       "      <td>37.2</td>\n",
       "      <td>69.0</td>\n",
       "      <td>NaN</td>\n",
       "      <td>NaN</td>\n",
       "      <td>228.0</td>\n",
       "      <td>103.0</td>\n",
       "      <td>...</td>\n",
       "      <td>True</td>\n",
       "      <td>False</td>\n",
       "      <td>False</td>\n",
       "      <td>False</td>\n",
       "      <td>False</td>\n",
       "      <td>False</td>\n",
       "      <td>True</td>\n",
       "      <td>False</td>\n",
       "      <td>False</td>\n",
       "      <td>False</td>\n",
       "    </tr>\n",
       "    <tr>\n",
       "      <th>4</th>\n",
       "      <td>P0005</td>\n",
       "      <td>167.00000</td>\n",
       "      <td>41.0</td>\n",
       "      <td>135/88</td>\n",
       "      <td>36.3</td>\n",
       "      <td>72.0</td>\n",
       "      <td>Hypertension</td>\n",
       "      <td>NaN</td>\n",
       "      <td>251.0</td>\n",
       "      <td>135.0</td>\n",
       "      <td>...</td>\n",
       "      <td>False</td>\n",
       "      <td>False</td>\n",
       "      <td>False</td>\n",
       "      <td>True</td>\n",
       "      <td>False</td>\n",
       "      <td>True</td>\n",
       "      <td>False</td>\n",
       "      <td>False</td>\n",
       "      <td>False</td>\n",
       "      <td>False</td>\n",
       "    </tr>\n",
       "  </tbody>\n",
       "</table>\n",
       "<p>5 rows × 24 columns</p>\n",
       "</div>"
      ],
      "text/plain": [
       "  Patient_ID  Height_cm  Weight_kg Blood_Pressure  Temperature_C  Heart_Rate  \\\n",
       "0      P0001  174.00000       59.0         120/80           36.6        63.0   \n",
       "1      P0002  169.90235       67.0         130/85           37.0        68.0   \n",
       "2      P0003  176.00000       58.0         140/90           37.0        65.0   \n",
       "3      P0004  185.00000       65.0         125/82           37.2        69.0   \n",
       "4      P0005  167.00000       41.0         135/88           36.3        72.0   \n",
       "\n",
       "       Disease_Predictions Laboratory_Test_Results  Cholesterol_mg_dL  \\\n",
       "0            Heart Disease        High Cholesterol              198.0   \n",
       "1  Coronary Artery Disease                     NaN              179.0   \n",
       "2               Arrhythmia                  Normal              193.0   \n",
       "3                      NaN                     NaN              228.0   \n",
       "4             Hypertension                     NaN              251.0   \n",
       "\n",
       "   Blood_Sugar_mg_dL  ... Symptoms_dizziness Symptoms_fatigue  \\\n",
       "0               79.0  ...              False            False   \n",
       "1               90.0  ...              False            False   \n",
       "2               82.0  ...              False             True   \n",
       "3              103.0  ...               True            False   \n",
       "4              135.0  ...              False            False   \n",
       "\n",
       "   Symptoms_nausea  Symptoms_palpitations  Symptoms_shortness of breath  \\\n",
       "0            False                  False                         False   \n",
       "1            False                  False                          True   \n",
       "2            False                  False                         False   \n",
       "3            False                  False                         False   \n",
       "4            False                   True                         False   \n",
       "\n",
       "   Existing_Conditions_Asthma  Existing_Conditions_Diabetes  \\\n",
       "0                       False                          True   \n",
       "1                       False                         False   \n",
       "2                       False                         False   \n",
       "3                       False                          True   \n",
       "4                        True                         False   \n",
       "\n",
       "   Existing_Conditions_High Cholesterol  Existing_Conditions_Hypertension  \\\n",
       "0                                 False                             False   \n",
       "1                                 False                              True   \n",
       "2                                  True                             False   \n",
       "3                                 False                             False   \n",
       "4                                 False                             False   \n",
       "\n",
       "   Existing_Conditions_Thyroid  \n",
       "0                        False  \n",
       "1                        False  \n",
       "2                        False  \n",
       "3                        False  \n",
       "4                        False  \n",
       "\n",
       "[5 rows x 24 columns]"
      ]
     },
     "execution_count": 268,
     "metadata": {},
     "output_type": "execute_result"
    }
   ],
   "source": [
    "\n",
    "df = pd.get_dummies(df, columns=['Existing_Conditions'])\n",
    "df.head()"
   ]
  },
  {
   "cell_type": "code",
   "execution_count": 269,
   "metadata": {},
   "outputs": [
    {
     "data": {
      "image/png": "[encoded data removed]",
      "text/plain": [
       "<Figure size 640x480 with 1 Axes>"
      ]
     },
     "metadata": {},
     "output_type": "display_data"
    }
   ],
   "source": [
    "\n",
    "\n",
    "import matplotlib.pyplot as plt\n",
    "import seaborn as sns\n",
    "\n",
    "sns.countplot(data=df, x='Laboratory_Test_Results')\n",
    "plt.xticks(rotation=90)  \n",
    "plt.title('Distribution of  Laboratory_Test_Results')\n",
    "plt.show()\n"
   ]
  },
  {
   "cell_type": "code",
   "execution_count": 270,
   "metadata": {},
   "outputs": [
    {
     "data": {
      "text/plain": [
       "Patient_ID                                0\n",
       "Height_cm                                 0\n",
       "Weight_kg                                 0\n",
       "Blood_Pressure                          308\n",
       "Temperature_C                             0\n",
       "Heart_Rate                                0\n",
       "Disease_Predictions                     482\n",
       "Laboratory_Test_Results                   0\n",
       "Cholesterol_mg_dL                         0\n",
       "Blood_Sugar_mg_dL                         0\n",
       "Family_History_Heart_Disease             89\n",
       "Smoking_Status                           89\n",
       "Symptoms_Chest Pain                       0\n",
       "Symptoms_chest pain                       0\n",
       "Symptoms_dizziness                        0\n",
       "Symptoms_fatigue                          0\n",
       "Symptoms_nausea                           0\n",
       "Symptoms_palpitations                     0\n",
       "Symptoms_shortness of breath              0\n",
       "Existing_Conditions_Asthma                0\n",
       "Existing_Conditions_Diabetes              0\n",
       "Existing_Conditions_High Cholesterol      0\n",
       "Existing_Conditions_Hypertension          0\n",
       "Existing_Conditions_Thyroid               0\n",
       "dtype: int64"
      ]
     },
     "execution_count": 270,
     "metadata": {},
     "output_type": "execute_result"
    }
   ],
   "source": [
    "\n",
    "mode_value = df['Laboratory_Test_Results'].mode()[0] \n",
    "df['Laboratory_Test_Results'] = df['Laboratory_Test_Results'].fillna(mode_value)\n",
    "\n",
    "df.isnull().sum()"
   ]
  },
  {
   "cell_type": "code",
   "execution_count": 271,
   "metadata": {},
   "outputs": [
    {
     "data": {
      "text/html": [
       "<div>\n",
       "<style scoped>\n",
       "    .dataframe tbody tr th:only-of-type {\n",
       "        vertical-align: middle;\n",
       "    }\n",
       "\n",
       "    .dataframe tbody tr th {\n",
       "        vertical-align: top;\n",
       "    }\n",
       "\n",
       "    .dataframe thead th {\n",
       "        text-align: right;\n",
       "    }\n",
       "</style>\n",
       "<table border=\"1\" class=\"dataframe\">\n",
       "  <thead>\n",
       "    <tr style=\"text-align: right;\">\n",
       "      <th></th>\n",
       "      <th>Patient_ID</th>\n",
       "      <th>Height_cm</th>\n",
       "      <th>Weight_kg</th>\n",
       "      <th>Blood_Pressure</th>\n",
       "      <th>Temperature_C</th>\n",
       "      <th>Heart_Rate</th>\n",
       "      <th>Disease_Predictions</th>\n",
       "      <th>Cholesterol_mg_dL</th>\n",
       "      <th>Blood_Sugar_mg_dL</th>\n",
       "      <th>Family_History_Heart_Disease</th>\n",
       "      <th>...</th>\n",
       "      <th>Symptoms_shortness of breath</th>\n",
       "      <th>Existing_Conditions_Asthma</th>\n",
       "      <th>Existing_Conditions_Diabetes</th>\n",
       "      <th>Existing_Conditions_High Cholesterol</th>\n",
       "      <th>Existing_Conditions_Hypertension</th>\n",
       "      <th>Existing_Conditions_Thyroid</th>\n",
       "      <th>Laboratory_Test_Results_High Blood Sugar</th>\n",
       "      <th>Laboratory_Test_Results_High Cholesterol</th>\n",
       "      <th>Laboratory_Test_Results_Low Iron</th>\n",
       "      <th>Laboratory_Test_Results_Normal</th>\n",
       "    </tr>\n",
       "  </thead>\n",
       "  <tbody>\n",
       "    <tr>\n",
       "      <th>0</th>\n",
       "      <td>P0001</td>\n",
       "      <td>174.00000</td>\n",
       "      <td>59.0</td>\n",
       "      <td>120/80</td>\n",
       "      <td>36.6</td>\n",
       "      <td>63.0</td>\n",
       "      <td>Heart Disease</td>\n",
       "      <td>198.0</td>\n",
       "      <td>79.0</td>\n",
       "      <td>Yes</td>\n",
       "      <td>...</td>\n",
       "      <td>False</td>\n",
       "      <td>False</td>\n",
       "      <td>True</td>\n",
       "      <td>False</td>\n",
       "      <td>False</td>\n",
       "      <td>False</td>\n",
       "      <td>False</td>\n",
       "      <td>True</td>\n",
       "      <td>False</td>\n",
       "      <td>False</td>\n",
       "    </tr>\n",
       "    <tr>\n",
       "      <th>1</th>\n",
       "      <td>P0002</td>\n",
       "      <td>169.90235</td>\n",
       "      <td>67.0</td>\n",
       "      <td>130/85</td>\n",
       "      <td>37.0</td>\n",
       "      <td>68.0</td>\n",
       "      <td>Coronary Artery Disease</td>\n",
       "      <td>179.0</td>\n",
       "      <td>90.0</td>\n",
       "      <td>No</td>\n",
       "      <td>...</td>\n",
       "      <td>True</td>\n",
       "      <td>False</td>\n",
       "      <td>False</td>\n",
       "      <td>False</td>\n",
       "      <td>True</td>\n",
       "      <td>False</td>\n",
       "      <td>True</td>\n",
       "      <td>False</td>\n",
       "      <td>False</td>\n",
       "      <td>False</td>\n",
       "    </tr>\n",
       "    <tr>\n",
       "      <th>2</th>\n",
       "      <td>P0003</td>\n",
       "      <td>176.00000</td>\n",
       "      <td>58.0</td>\n",
       "      <td>140/90</td>\n",
       "      <td>37.0</td>\n",
       "      <td>65.0</td>\n",
       "      <td>Arrhythmia</td>\n",
       "      <td>193.0</td>\n",
       "      <td>82.0</td>\n",
       "      <td>NaN</td>\n",
       "      <td>...</td>\n",
       "      <td>False</td>\n",
       "      <td>False</td>\n",
       "      <td>False</td>\n",
       "      <td>True</td>\n",
       "      <td>False</td>\n",
       "      <td>False</td>\n",
       "      <td>False</td>\n",
       "      <td>False</td>\n",
       "      <td>False</td>\n",
       "      <td>True</td>\n",
       "    </tr>\n",
       "    <tr>\n",
       "      <th>3</th>\n",
       "      <td>P0004</td>\n",
       "      <td>185.00000</td>\n",
       "      <td>65.0</td>\n",
       "      <td>125/82</td>\n",
       "      <td>37.2</td>\n",
       "      <td>69.0</td>\n",
       "      <td>NaN</td>\n",
       "      <td>228.0</td>\n",
       "      <td>103.0</td>\n",
       "      <td>No</td>\n",
       "      <td>...</td>\n",
       "      <td>False</td>\n",
       "      <td>False</td>\n",
       "      <td>True</td>\n",
       "      <td>False</td>\n",
       "      <td>False</td>\n",
       "      <td>False</td>\n",
       "      <td>True</td>\n",
       "      <td>False</td>\n",
       "      <td>False</td>\n",
       "      <td>False</td>\n",
       "    </tr>\n",
       "    <tr>\n",
       "      <th>4</th>\n",
       "      <td>P0005</td>\n",
       "      <td>167.00000</td>\n",
       "      <td>41.0</td>\n",
       "      <td>135/88</td>\n",
       "      <td>36.3</td>\n",
       "      <td>72.0</td>\n",
       "      <td>Hypertension</td>\n",
       "      <td>251.0</td>\n",
       "      <td>135.0</td>\n",
       "      <td>Yes</td>\n",
       "      <td>...</td>\n",
       "      <td>False</td>\n",
       "      <td>True</td>\n",
       "      <td>False</td>\n",
       "      <td>False</td>\n",
       "      <td>False</td>\n",
       "      <td>False</td>\n",
       "      <td>True</td>\n",
       "      <td>False</td>\n",
       "      <td>False</td>\n",
       "      <td>False</td>\n",
       "    </tr>\n",
       "  </tbody>\n",
       "</table>\n",
       "<p>5 rows × 27 columns</p>\n",
       "</div>"
      ],
      "text/plain": [
       "  Patient_ID  Height_cm  Weight_kg Blood_Pressure  Temperature_C  Heart_Rate  \\\n",
       "0      P0001  174.00000       59.0         120/80           36.6        63.0   \n",
       "1      P0002  169.90235       67.0         130/85           37.0        68.0   \n",
       "2      P0003  176.00000       58.0         140/90           37.0        65.0   \n",
       "3      P0004  185.00000       65.0         125/82           37.2        69.0   \n",
       "4      P0005  167.00000       41.0         135/88           36.3        72.0   \n",
       "\n",
       "       Disease_Predictions  Cholesterol_mg_dL  Blood_Sugar_mg_dL  \\\n",
       "0            Heart Disease              198.0               79.0   \n",
       "1  Coronary Artery Disease              179.0               90.0   \n",
       "2               Arrhythmia              193.0               82.0   \n",
       "3                      NaN              228.0              103.0   \n",
       "4             Hypertension              251.0              135.0   \n",
       "\n",
       "  Family_History_Heart_Disease  ... Symptoms_shortness of breath  \\\n",
       "0                          Yes  ...                        False   \n",
       "1                           No  ...                         True   \n",
       "2                          NaN  ...                        False   \n",
       "3                           No  ...                        False   \n",
       "4                          Yes  ...                        False   \n",
       "\n",
       "   Existing_Conditions_Asthma  Existing_Conditions_Diabetes  \\\n",
       "0                       False                          True   \n",
       "1                       False                         False   \n",
       "2                       False                         False   \n",
       "3                       False                          True   \n",
       "4                        True                         False   \n",
       "\n",
       "   Existing_Conditions_High Cholesterol  Existing_Conditions_Hypertension  \\\n",
       "0                                 False                             False   \n",
       "1                                 False                              True   \n",
       "2                                  True                             False   \n",
       "3                                 False                             False   \n",
       "4                                 False                             False   \n",
       "\n",
       "   Existing_Conditions_Thyroid  Laboratory_Test_Results_High Blood Sugar  \\\n",
       "0                        False                                     False   \n",
       "1                        False                                      True   \n",
       "2                        False                                     False   \n",
       "3                        False                                      True   \n",
       "4                        False                                      True   \n",
       "\n",
       "   Laboratory_Test_Results_High Cholesterol  Laboratory_Test_Results_Low Iron  \\\n",
       "0                                      True                             False   \n",
       "1                                     False                             False   \n",
       "2                                     False                             False   \n",
       "3                                     False                             False   \n",
       "4                                     False                             False   \n",
       "\n",
       "   Laboratory_Test_Results_Normal  \n",
       "0                           False  \n",
       "1                           False  \n",
       "2                            True  \n",
       "3                           False  \n",
       "4                           False  \n",
       "\n",
       "[5 rows x 27 columns]"
      ]
     },
     "execution_count": 271,
     "metadata": {},
     "output_type": "execute_result"
    }
   ],
   "source": [
    "\n",
    "df = pd.get_dummies(df, columns=['Laboratory_Test_Results'])\n",
    "df.head()"
   ]
  },
  {
   "cell_type": "code",
   "execution_count": 272,
   "metadata": {},
   "outputs": [
    {
     "data": {
      "image/png": "[encoded data removed]",
      "text/plain": [
       "<Figure size 640x480 with 1 Axes>"
      ]
     },
     "metadata": {},
     "output_type": "display_data"
    }
   ],
   "source": [
    "import matplotlib.pyplot as plt\n",
    "import seaborn as sns\n",
    "\n",
    "sns.countplot(data=df, x='Smoking_Status')\n",
    "plt.xticks(rotation=90)  \n",
    "plt.title('Distribution of  Smoking Status')\n",
    "plt.show()"
   ]
  },
  {
   "cell_type": "code",
   "execution_count": 273,
   "metadata": {},
   "outputs": [
    {
     "data": {
      "text/plain": [
       "Patient_ID                                    0\n",
       "Height_cm                                     0\n",
       "Weight_kg                                     0\n",
       "Blood_Pressure                              308\n",
       "Temperature_C                                 0\n",
       "Heart_Rate                                    0\n",
       "Disease_Predictions                         482\n",
       "Cholesterol_mg_dL                             0\n",
       "Blood_Sugar_mg_dL                             0\n",
       "Family_History_Heart_Disease                 89\n",
       "Smoking_Status                                0\n",
       "Symptoms_Chest Pain                           0\n",
       "Symptoms_chest pain                           0\n",
       "Symptoms_dizziness                            0\n",
       "Symptoms_fatigue                              0\n",
       "Symptoms_nausea                               0\n",
       "Symptoms_palpitations                         0\n",
       "Symptoms_shortness of breath                  0\n",
       "Existing_Conditions_Asthma                    0\n",
       "Existing_Conditions_Diabetes                  0\n",
       "Existing_Conditions_High Cholesterol          0\n",
       "Existing_Conditions_Hypertension              0\n",
       "Existing_Conditions_Thyroid                   0\n",
       "Laboratory_Test_Results_High Blood Sugar      0\n",
       "Laboratory_Test_Results_High Cholesterol      0\n",
       "Laboratory_Test_Results_Low Iron              0\n",
       "Laboratory_Test_Results_Normal                0\n",
       "dtype: int64"
      ]
     },
     "execution_count": 273,
     "metadata": {},
     "output_type": "execute_result"
    }
   ],
   "source": [
    "import pandas as pd\n",
    "\n",
    "mode_value = df['Smoking_Status'].mode()[0] \n",
    "df['Smoking_Status'] = df['Smoking_Status'].fillna(mode_value)\n",
    "\n",
    "df.isnull().sum()"
   ]
  },
  {
   "cell_type": "code",
   "execution_count": 274,
   "metadata": {},
   "outputs": [
    {
     "data": {
      "text/html": [
       "<div>\n",
       "<style scoped>\n",
       "    .dataframe tbody tr th:only-of-type {\n",
       "        vertical-align: middle;\n",
       "    }\n",
       "\n",
       "    .dataframe tbody tr th {\n",
       "        vertical-align: top;\n",
       "    }\n",
       "\n",
       "    .dataframe thead th {\n",
       "        text-align: right;\n",
       "    }\n",
       "</style>\n",
       "<table border=\"1\" class=\"dataframe\">\n",
       "  <thead>\n",
       "    <tr style=\"text-align: right;\">\n",
       "      <th></th>\n",
       "      <th>Patient_ID</th>\n",
       "      <th>Height_cm</th>\n",
       "      <th>Weight_kg</th>\n",
       "      <th>Blood_Pressure</th>\n",
       "      <th>Temperature_C</th>\n",
       "      <th>Heart_Rate</th>\n",
       "      <th>Disease_Predictions</th>\n",
       "      <th>Cholesterol_mg_dL</th>\n",
       "      <th>Blood_Sugar_mg_dL</th>\n",
       "      <th>Family_History_Heart_Disease</th>\n",
       "      <th>...</th>\n",
       "      <th>Existing_Conditions_High Cholesterol</th>\n",
       "      <th>Existing_Conditions_Hypertension</th>\n",
       "      <th>Existing_Conditions_Thyroid</th>\n",
       "      <th>Laboratory_Test_Results_High Blood Sugar</th>\n",
       "      <th>Laboratory_Test_Results_High Cholesterol</th>\n",
       "      <th>Laboratory_Test_Results_Low Iron</th>\n",
       "      <th>Laboratory_Test_Results_Normal</th>\n",
       "      <th>Smoking_Status_Current</th>\n",
       "      <th>Smoking_Status_Former</th>\n",
       "      <th>Smoking_Status_Never</th>\n",
       "    </tr>\n",
       "  </thead>\n",
       "  <tbody>\n",
       "    <tr>\n",
       "      <th>0</th>\n",
       "      <td>P0001</td>\n",
       "      <td>174.00000</td>\n",
       "      <td>59.0</td>\n",
       "      <td>120/80</td>\n",
       "      <td>36.6</td>\n",
       "      <td>63.0</td>\n",
       "      <td>Heart Disease</td>\n",
       "      <td>198.0</td>\n",
       "      <td>79.0</td>\n",
       "      <td>Yes</td>\n",
       "      <td>...</td>\n",
       "      <td>False</td>\n",
       "      <td>False</td>\n",
       "      <td>False</td>\n",
       "      <td>False</td>\n",
       "      <td>True</td>\n",
       "      <td>False</td>\n",
       "      <td>False</td>\n",
       "      <td>False</td>\n",
       "      <td>False</td>\n",
       "      <td>True</td>\n",
       "    </tr>\n",
       "    <tr>\n",
       "      <th>1</th>\n",
       "      <td>P0002</td>\n",
       "      <td>169.90235</td>\n",
       "      <td>67.0</td>\n",
       "      <td>130/85</td>\n",
       "      <td>37.0</td>\n",
       "      <td>68.0</td>\n",
       "      <td>Coronary Artery Disease</td>\n",
       "      <td>179.0</td>\n",
       "      <td>90.0</td>\n",
       "      <td>No</td>\n",
       "      <td>...</td>\n",
       "      <td>False</td>\n",
       "      <td>True</td>\n",
       "      <td>False</td>\n",
       "      <td>True</td>\n",
       "      <td>False</td>\n",
       "      <td>False</td>\n",
       "      <td>False</td>\n",
       "      <td>False</td>\n",
       "      <td>True</td>\n",
       "      <td>False</td>\n",
       "    </tr>\n",
       "    <tr>\n",
       "      <th>2</th>\n",
       "      <td>P0003</td>\n",
       "      <td>176.00000</td>\n",
       "      <td>58.0</td>\n",
       "      <td>140/90</td>\n",
       "      <td>37.0</td>\n",
       "      <td>65.0</td>\n",
       "      <td>Arrhythmia</td>\n",
       "      <td>193.0</td>\n",
       "      <td>82.0</td>\n",
       "      <td>NaN</td>\n",
       "      <td>...</td>\n",
       "      <td>True</td>\n",
       "      <td>False</td>\n",
       "      <td>False</td>\n",
       "      <td>False</td>\n",
       "      <td>False</td>\n",
       "      <td>False</td>\n",
       "      <td>True</td>\n",
       "      <td>True</td>\n",
       "      <td>False</td>\n",
       "      <td>False</td>\n",
       "    </tr>\n",
       "    <tr>\n",
       "      <th>3</th>\n",
       "      <td>P0004</td>\n",
       "      <td>185.00000</td>\n",
       "      <td>65.0</td>\n",
       "      <td>125/82</td>\n",
       "      <td>37.2</td>\n",
       "      <td>69.0</td>\n",
       "      <td>NaN</td>\n",
       "      <td>228.0</td>\n",
       "      <td>103.0</td>\n",
       "      <td>No</td>\n",
       "      <td>...</td>\n",
       "      <td>False</td>\n",
       "      <td>False</td>\n",
       "      <td>False</td>\n",
       "      <td>True</td>\n",
       "      <td>False</td>\n",
       "      <td>False</td>\n",
       "      <td>False</td>\n",
       "      <td>False</td>\n",
       "      <td>False</td>\n",
       "      <td>True</td>\n",
       "    </tr>\n",
       "    <tr>\n",
       "      <th>4</th>\n",
       "      <td>P0005</td>\n",
       "      <td>167.00000</td>\n",
       "      <td>41.0</td>\n",
       "      <td>135/88</td>\n",
       "      <td>36.3</td>\n",
       "      <td>72.0</td>\n",
       "      <td>Hypertension</td>\n",
       "      <td>251.0</td>\n",
       "      <td>135.0</td>\n",
       "      <td>Yes</td>\n",
       "      <td>...</td>\n",
       "      <td>False</td>\n",
       "      <td>False</td>\n",
       "      <td>False</td>\n",
       "      <td>True</td>\n",
       "      <td>False</td>\n",
       "      <td>False</td>\n",
       "      <td>False</td>\n",
       "      <td>False</td>\n",
       "      <td>True</td>\n",
       "      <td>False</td>\n",
       "    </tr>\n",
       "  </tbody>\n",
       "</table>\n",
       "<p>5 rows × 29 columns</p>\n",
       "</div>"
      ],
      "text/plain": [
       "  Patient_ID  Height_cm  Weight_kg Blood_Pressure  Temperature_C  Heart_Rate  \\\n",
       "0      P0001  174.00000       59.0         120/80           36.6        63.0   \n",
       "1      P0002  169.90235       67.0         130/85           37.0        68.0   \n",
       "2      P0003  176.00000       58.0         140/90           37.0        65.0   \n",
       "3      P0004  185.00000       65.0         125/82           37.2        69.0   \n",
       "4      P0005  167.00000       41.0         135/88           36.3        72.0   \n",
       "\n",
       "       Disease_Predictions  Cholesterol_mg_dL  Blood_Sugar_mg_dL  \\\n",
       "0            Heart Disease              198.0               79.0   \n",
       "1  Coronary Artery Disease              179.0               90.0   \n",
       "2               Arrhythmia              193.0               82.0   \n",
       "3                      NaN              228.0              103.0   \n",
       "4             Hypertension              251.0              135.0   \n",
       "\n",
       "  Family_History_Heart_Disease  ...  Existing_Conditions_High Cholesterol  \\\n",
       "0                          Yes  ...                                 False   \n",
       "1                           No  ...                                 False   \n",
       "2                          NaN  ...                                  True   \n",
       "3                           No  ...                                 False   \n",
       "4                          Yes  ...                                 False   \n",
       "\n",
       "   Existing_Conditions_Hypertension  Existing_Conditions_Thyroid  \\\n",
       "0                             False                        False   \n",
       "1                              True                        False   \n",
       "2                             False                        False   \n",
       "3                             False                        False   \n",
       "4                             False                        False   \n",
       "\n",
       "   Laboratory_Test_Results_High Blood Sugar  \\\n",
       "0                                     False   \n",
       "1                                      True   \n",
       "2                                     False   \n",
       "3                                      True   \n",
       "4                                      True   \n",
       "\n",
       "   Laboratory_Test_Results_High Cholesterol  Laboratory_Test_Results_Low Iron  \\\n",
       "0                                      True                             False   \n",
       "1                                     False                             False   \n",
       "2                                     False                             False   \n",
       "3                                     False                             False   \n",
       "4                                     False                             False   \n",
       "\n",
       "   Laboratory_Test_Results_Normal  Smoking_Status_Current  \\\n",
       "0                           False                   False   \n",
       "1                           False                   False   \n",
       "2                            True                    True   \n",
       "3                           False                   False   \n",
       "4                           False                   False   \n",
       "\n",
       "   Smoking_Status_Former  Smoking_Status_Never  \n",
       "0                  False                  True  \n",
       "1                   True                 False  \n",
       "2                  False                 False  \n",
       "3                  False                  True  \n",
       "4                   True                 False  \n",
       "\n",
       "[5 rows x 29 columns]"
      ]
     },
     "execution_count": 274,
     "metadata": {},
     "output_type": "execute_result"
    }
   ],
   "source": [
    "\n",
    "df = pd.get_dummies(df, columns=['Smoking_Status'])\n",
    "df.head()"
   ]
  },
  {
   "cell_type": "code",
   "execution_count": 275,
   "metadata": {},
   "outputs": [
    {
     "data": {
      "image/png": "[encoded data removed]",
      "text/plain": [
       "<Figure size 640x480 with 1 Axes>"
      ]
     },
     "metadata": {},
     "output_type": "display_data"
    }
   ],
   "source": [
    "import matplotlib.pyplot as plt\n",
    "import seaborn as sns\n",
    "\n",
    "sns.countplot(data=df, x='Disease_Predictions')\n",
    "plt.xticks(rotation=90)  \n",
    "plt.title('Distribution of Disease Predictions ')\n",
    "plt.show()"
   ]
  },
  {
   "cell_type": "code",
   "execution_count": 276,
   "metadata": {},
   "outputs": [
    {
     "data": {
      "text/plain": [
       "Patient_ID                                    0\n",
       "Height_cm                                     0\n",
       "Weight_kg                                     0\n",
       "Blood_Pressure                              308\n",
       "Temperature_C                                 0\n",
       "Heart_Rate                                    0\n",
       "Disease_Predictions                           0\n",
       "Cholesterol_mg_dL                             0\n",
       "Blood_Sugar_mg_dL                             0\n",
       "Family_History_Heart_Disease                 89\n",
       "Symptoms_Chest Pain                           0\n",
       "Symptoms_chest pain                           0\n",
       "Symptoms_dizziness                            0\n",
       "Symptoms_fatigue                              0\n",
       "Symptoms_nausea                               0\n",
       "Symptoms_palpitations                         0\n",
       "Symptoms_shortness of breath                  0\n",
       "Existing_Conditions_Asthma                    0\n",
       "Existing_Conditions_Diabetes                  0\n",
       "Existing_Conditions_High Cholesterol          0\n",
       "Existing_Conditions_Hypertension              0\n",
       "Existing_Conditions_Thyroid                   0\n",
       "Laboratory_Test_Results_High Blood Sugar      0\n",
       "Laboratory_Test_Results_High Cholesterol      0\n",
       "Laboratory_Test_Results_Low Iron              0\n",
       "Laboratory_Test_Results_Normal                0\n",
       "Smoking_Status_Current                        0\n",
       "Smoking_Status_Former                         0\n",
       "Smoking_Status_Never                          0\n",
       "dtype: int64"
      ]
     },
     "execution_count": 276,
     "metadata": {},
     "output_type": "execute_result"
    }
   ],
   "source": [
    "import pandas as pd\n",
    "\n",
    "mode_value = df['Disease_Predictions'].mode()[0] \n",
    "df['Disease_Predictions'] = df['Disease_Predictions'].fillna(mode_value)\n",
    "\n",
    "df.isnull().sum()"
   ]
  },
  {
   "cell_type": "code",
   "execution_count": 277,
   "metadata": {},
   "outputs": [
    {
     "data": {
      "text/plain": [
       "Patient_ID                                       0\n",
       "Height_cm                                        0\n",
       "Weight_kg                                        0\n",
       "Blood_Pressure                                 308\n",
       "Temperature_C                                    0\n",
       "Heart_Rate                                       0\n",
       "Cholesterol_mg_dL                                0\n",
       "Blood_Sugar_mg_dL                                0\n",
       "Family_History_Heart_Disease                    89\n",
       "Symptoms_Chest Pain                              0\n",
       "Symptoms_chest pain                              0\n",
       "Symptoms_dizziness                               0\n",
       "Symptoms_fatigue                                 0\n",
       "Symptoms_nausea                                  0\n",
       "Symptoms_palpitations                            0\n",
       "Symptoms_shortness of breath                     0\n",
       "Existing_Conditions_Asthma                       0\n",
       "Existing_Conditions_Diabetes                     0\n",
       "Existing_Conditions_High Cholesterol             0\n",
       "Existing_Conditions_Hypertension                 0\n",
       "Existing_Conditions_Thyroid                      0\n",
       "Laboratory_Test_Results_High Blood Sugar         0\n",
       "Laboratory_Test_Results_High Cholesterol         0\n",
       "Laboratory_Test_Results_Low Iron                 0\n",
       "Laboratory_Test_Results_Normal                   0\n",
       "Smoking_Status_Current                           0\n",
       "Smoking_Status_Former                            0\n",
       "Smoking_Status_Never                             0\n",
       "Disease_Predictions_Arrhythmia                   0\n",
       "Disease_Predictions_Coronary Artery Disease      0\n",
       "Disease_Predictions_Heart Disease                0\n",
       "Disease_Predictions_Hypertension                 0\n",
       "Disease_Predictions_Stroke                       0\n",
       "dtype: int64"
      ]
     },
     "execution_count": 277,
     "metadata": {},
     "output_type": "execute_result"
    }
   ],
   "source": [
    "import pandas as pd\n",
    "df = pd.get_dummies(df, columns=['Disease_Predictions'])\n",
    "df.head()\n",
    "df.isnull().sum()"
   ]
  },
  {
   "cell_type": "code",
   "execution_count": 278,
   "metadata": {},
   "outputs": [
    {
     "data": {
      "image/png": "[encoded data removed]",
      "text/plain": [
       "<Figure size 640x480 with 1 Axes>"
      ]
     },
     "metadata": {},
     "output_type": "display_data"
    }
   ],
   "source": [
    "import matplotlib.pyplot as plt\n",
    "import seaborn as sns\n",
    "\n",
    "sns.countplot(data=df, x='Family_History_Heart_Disease')\n",
    "plt.xticks(rotation=90)  \n",
    "plt.title('Distribution of Family History Heart Disease')\n",
    "plt.show()"
   ]
  },
  {
   "cell_type": "code",
   "execution_count": 279,
   "metadata": {},
   "outputs": [
    {
     "data": {
      "text/plain": [
       "Patient_ID                                       0\n",
       "Height_cm                                        0\n",
       "Weight_kg                                        0\n",
       "Blood_Pressure                                 308\n",
       "Temperature_C                                    0\n",
       "Heart_Rate                                       0\n",
       "Cholesterol_mg_dL                                0\n",
       "Blood_Sugar_mg_dL                                0\n",
       "Family_History_Heart_Disease                     0\n",
       "Symptoms_Chest Pain                              0\n",
       "Symptoms_chest pain                              0\n",
       "Symptoms_dizziness                               0\n",
       "Symptoms_fatigue                                 0\n",
       "Symptoms_nausea                                  0\n",
       "Symptoms_palpitations                            0\n",
       "Symptoms_shortness of breath                     0\n",
       "Existing_Conditions_Asthma                       0\n",
       "Existing_Conditions_Diabetes                     0\n",
       "Existing_Conditions_High Cholesterol             0\n",
       "Existing_Conditions_Hypertension                 0\n",
       "Existing_Conditions_Thyroid                      0\n",
       "Laboratory_Test_Results_High Blood Sugar         0\n",
       "Laboratory_Test_Results_High Cholesterol         0\n",
       "Laboratory_Test_Results_Low Iron                 0\n",
       "Laboratory_Test_Results_Normal                   0\n",
       "Smoking_Status_Current                           0\n",
       "Smoking_Status_Former                            0\n",
       "Smoking_Status_Never                             0\n",
       "Disease_Predictions_Arrhythmia                   0\n",
       "Disease_Predictions_Coronary Artery Disease      0\n",
       "Disease_Predictions_Heart Disease                0\n",
       "Disease_Predictions_Hypertension                 0\n",
       "Disease_Predictions_Stroke                       0\n",
       "dtype: int64"
      ]
     },
     "execution_count": 279,
     "metadata": {},
     "output_type": "execute_result"
    }
   ],
   "source": [
    "import pandas as pd\n",
    "\n",
    "mode_value = df['Family_History_Heart_Disease'].mode()[0] \n",
    "df['Family_History_Heart_Disease'] = df['Family_History_Heart_Disease'].fillna(mode_value)\n",
    "\n",
    "df.isnull().sum()"
   ]
  },
  {
   "cell_type": "code",
   "execution_count": 280,
   "metadata": {},
   "outputs": [
    {
     "data": {
      "text/plain": [
       "Patient_ID                                       0\n",
       "Height_cm                                        0\n",
       "Weight_kg                                        0\n",
       "Blood_Pressure                                 308\n",
       "Temperature_C                                    0\n",
       "Heart_Rate                                       0\n",
       "Cholesterol_mg_dL                                0\n",
       "Blood_Sugar_mg_dL                                0\n",
       "Symptoms_Chest Pain                              0\n",
       "Symptoms_chest pain                              0\n",
       "Symptoms_dizziness                               0\n",
       "Symptoms_fatigue                                 0\n",
       "Symptoms_nausea                                  0\n",
       "Symptoms_palpitations                            0\n",
       "Symptoms_shortness of breath                     0\n",
       "Existing_Conditions_Asthma                       0\n",
       "Existing_Conditions_Diabetes                     0\n",
       "Existing_Conditions_High Cholesterol             0\n",
       "Existing_Conditions_Hypertension                 0\n",
       "Existing_Conditions_Thyroid                      0\n",
       "Laboratory_Test_Results_High Blood Sugar         0\n",
       "Laboratory_Test_Results_High Cholesterol         0\n",
       "Laboratory_Test_Results_Low Iron                 0\n",
       "Laboratory_Test_Results_Normal                   0\n",
       "Smoking_Status_Current                           0\n",
       "Smoking_Status_Former                            0\n",
       "Smoking_Status_Never                             0\n",
       "Disease_Predictions_Arrhythmia                   0\n",
       "Disease_Predictions_Coronary Artery Disease      0\n",
       "Disease_Predictions_Heart Disease                0\n",
       "Disease_Predictions_Hypertension                 0\n",
       "Disease_Predictions_Stroke                       0\n",
       "Family_History_Heart_Disease_No                  0\n",
       "Family_History_Heart_Disease_Yes                 0\n",
       "dtype: int64"
      ]
     },
     "execution_count": 280,
     "metadata": {},
     "output_type": "execute_result"
    }
   ],
   "source": [
    "import pandas as pd\n",
    "df = pd.get_dummies(df, columns=['Family_History_Heart_Disease'])\n",
    "df.head()\n",
    "df.isnull().sum()"
   ]
  },
  {
   "cell_type": "code",
   "execution_count": 281,
   "metadata": {},
   "outputs": [
    {
     "name": "stdout",
     "output_type": "stream",
     "text": [
      "  Blood_Pressure_Systolic Blood_Pressure_Diastolic\n",
      "0                     120                       80\n",
      "1                     130                       85\n",
      "2                     140                       90\n",
      "3                     125                       82\n",
      "4                     135                       88\n"
     ]
    }
   ],
   "source": [
    "df[['Blood_Pressure_Systolic','Blood_Pressure_Diastolic']]=df['Blood_Pressure'].str.split('/',expand=True)\n",
    "\n",
    "print(df[['Blood_Pressure_Systolic','Blood_Pressure_Diastolic']].head())\n",
    "df=df.drop(columns='Blood_Pressure')"
   ]
  },
  {
   "cell_type": "code",
   "execution_count": 282,
   "metadata": {},
   "outputs": [
    {
     "name": "stdout",
     "output_type": "stream",
     "text": [
      "<class 'pandas.core.frame.DataFrame'>\n",
      "RangeIndex: 2000 entries, 0 to 1999\n",
      "Data columns (total 2 columns):\n",
      " #   Column                    Non-Null Count  Dtype  \n",
      "---  ------                    --------------  -----  \n",
      " 0   Blood_Pressure_Systolic   1640 non-null   float64\n",
      " 1   Blood_Pressure_Diastolic  1640 non-null   float64\n",
      "dtypes: float64(2)\n",
      "memory usage: 31.4 KB\n",
      "None\n"
     ]
    }
   ],
   "source": [
    "df['Blood_Pressure_Systolic']=pd.to_numeric(df['Blood_Pressure_Systolic'],errors='coerce')\n",
    "df['Blood_Pressure_Diastolic']=pd.to_numeric(df['Blood_Pressure_Diastolic'],errors='coerce')\n",
    "print(df[['Blood_Pressure_Systolic','Blood_Pressure_Diastolic']].info())\n"
   ]
  },
  {
   "cell_type": "code",
   "execution_count": 283,
   "metadata": {},
   "outputs": [
    {
     "data": {
      "text/plain": [
       "<Axes: ylabel='Frequency'>"
      ]
     },
     "execution_count": 283,
     "metadata": {},
     "output_type": "execute_result"
    },
    {
     "data": {
      "image/png": "[encoded data removed]",
      "text/plain": [
       "<Figure size 640x480 with 1 Axes>"
      ]
     },
     "metadata": {},
     "output_type": "display_data"
    }
   ],
   "source": [
    "import matplotlib.pyplot as plt\n",
    "df[\"Blood_Pressure_Systolic\"].plot(kind='hist',bins=10)"
   ]
  },
  {
   "cell_type": "code",
   "execution_count": 284,
   "metadata": {},
   "outputs": [
    {
     "name": "stdout",
     "output_type": "stream",
     "text": [
      "0\n"
     ]
    }
   ],
   "source": [
    "df[\"Blood_Pressure_Systolic\"].fillna(df[\"Blood_Pressure_Systolic\"].mode()[0], inplace=True)\n",
    "print(df[\"Blood_Pressure_Systolic\"].isnull().sum())\n"
   ]
  },
  {
   "cell_type": "code",
   "execution_count": 285,
   "metadata": {},
   "outputs": [
    {
     "data": {
      "text/plain": [
       "<Axes: ylabel='Frequency'>"
      ]
     },
     "execution_count": 285,
     "metadata": {},
     "output_type": "execute_result"
    },
    {
     "data": {
      "image/png": "[encoded data removed]",
      "text/plain": [
       "<Figure size 640x480 with 1 Axes>"
      ]
     },
     "metadata": {},
     "output_type": "display_data"
    }
   ],
   "source": [
    "import matplotlib.pyplot as plt\n",
    "df[\"Blood_Pressure_Diastolic\"].plot(kind='hist',bins=10)"
   ]
  },
  {
   "cell_type": "code",
   "execution_count": 286,
   "metadata": {},
   "outputs": [
    {
     "name": "stdout",
     "output_type": "stream",
     "text": [
      "0\n"
     ]
    }
   ],
   "source": [
    "df[\"Blood_Pressure_Diastolic\"].fillna(df[\"Blood_Pressure_Diastolic\"].mode()[0], inplace=True)\n",
    "print(df[\"Blood_Pressure_Diastolic\"].isnull().sum())"
   ]
  },
  {
   "cell_type": "code",
   "execution_count": 287,
   "metadata": {},
   "outputs": [
    {
     "name": "stdout",
     "output_type": "stream",
     "text": [
      "<class 'pandas.core.frame.DataFrame'>\n",
      "RangeIndex: 2000 entries, 0 to 1999\n",
      "Data columns (total 5 columns):\n",
      " #   Column                                       Non-Null Count  Dtype\n",
      "---  ------                                       --------------  -----\n",
      " 0   Disease_Predictions_Arrhythmia               2000 non-null   bool \n",
      " 1   Disease_Predictions_Coronary Artery Disease  2000 non-null   bool \n",
      " 2   Disease_Predictions_Heart Disease            2000 non-null   bool \n",
      " 3   Disease_Predictions_Hypertension             2000 non-null   bool \n",
      " 4   Disease_Predictions_Stroke                   2000 non-null   bool \n",
      "dtypes: bool(5)\n",
      "memory usage: 9.9 KB\n"
     ]
    },
    {
     "data": {
      "text/plain": [
       "np.int64(0)"
      ]
     },
     "execution_count": 287,
     "metadata": {},
     "output_type": "execute_result"
    }
   ],
   "source": [
    "# Select all columns with names starting with 'Disease_Predictions_'\n",
    "disease_columns = [col for col in df.columns if col.startswith(\"Disease_Predictions_\")]\n",
    "disease_df = df[disease_columns]\n",
    "disease_df.info()\n",
    "df.isnull().sum().sum()"
   ]
  },
  {
   "cell_type": "code",
   "execution_count": 288,
   "metadata": {},
   "outputs": [
    {
     "name": "stdout",
     "output_type": "stream",
     "text": [
      "<class 'pandas.core.frame.DataFrame'>\n",
      "RangeIndex: 2000 entries, 0 to 1999\n",
      "Data columns (total 35 columns):\n",
      " #   Column                                       Non-Null Count  Dtype  \n",
      "---  ------                                       --------------  -----  \n",
      " 0   Patient_ID                                   2000 non-null   object \n",
      " 1   Height_cm                                    2000 non-null   float64\n",
      " 2   Weight_kg                                    2000 non-null   float64\n",
      " 3   Temperature_C                                2000 non-null   float64\n",
      " 4   Heart_Rate                                   2000 non-null   float64\n",
      " 5   Cholesterol_mg_dL                            2000 non-null   float64\n",
      " 6   Blood_Sugar_mg_dL                            2000 non-null   float64\n",
      " 7   Symptoms_Chest Pain                          2000 non-null   bool   \n",
      " 8   Symptoms_chest pain                          2000 non-null   bool   \n",
      " 9   Symptoms_dizziness                           2000 non-null   bool   \n",
      " 10  Symptoms_fatigue                             2000 non-null   bool   \n",
      " 11  Symptoms_nausea                              2000 non-null   bool   \n",
      " 12  Symptoms_palpitations                        2000 non-null   bool   \n",
      " 13  Symptoms_shortness of breath                 2000 non-null   bool   \n",
      " 14  Existing_Conditions_Asthma                   2000 non-null   bool   \n",
      " 15  Existing_Conditions_Diabetes                 2000 non-null   bool   \n",
      " 16  Existing_Conditions_High Cholesterol         2000 non-null   bool   \n",
      " 17  Existing_Conditions_Hypertension             2000 non-null   bool   \n",
      " 18  Existing_Conditions_Thyroid                  2000 non-null   bool   \n",
      " 19  Laboratory_Test_Results_High Blood Sugar     2000 non-null   bool   \n",
      " 20  Laboratory_Test_Results_High Cholesterol     2000 non-null   bool   \n",
      " 21  Laboratory_Test_Results_Low Iron             2000 non-null   bool   \n",
      " 22  Laboratory_Test_Results_Normal               2000 non-null   bool   \n",
      " 23  Smoking_Status_Current                       2000 non-null   bool   \n",
      " 24  Smoking_Status_Former                        2000 non-null   bool   \n",
      " 25  Smoking_Status_Never                         2000 non-null   bool   \n",
      " 26  Disease_Predictions_Arrhythmia               2000 non-null   bool   \n",
      " 27  Disease_Predictions_Coronary Artery Disease  2000 non-null   bool   \n",
      " 28  Disease_Predictions_Heart Disease            2000 non-null   bool   \n",
      " 29  Disease_Predictions_Hypertension             2000 non-null   bool   \n",
      " 30  Disease_Predictions_Stroke                   2000 non-null   bool   \n",
      " 31  Family_History_Heart_Disease_No              2000 non-null   bool   \n",
      " 32  Family_History_Heart_Disease_Yes             2000 non-null   bool   \n",
      " 33  Blood_Pressure_Systolic                      2000 non-null   float64\n",
      " 34  Blood_Pressure_Diastolic                     2000 non-null   float64\n",
      "dtypes: bool(26), float64(8), object(1)\n",
      "memory usage: 191.5+ KB\n"
     ]
    }
   ],
   "source": [
    "df.info()"
   ]
  },
  {
   "cell_type": "code",
   "execution_count": 289,
   "metadata": {},
   "outputs": [
    {
     "name": "stdout",
     "output_type": "stream",
     "text": [
      "Training completed in 0.01 seconds.\n",
      "Cross-validation accuracy: 0.86 ± 0.02\n",
      "Accuracy on Test Data: 83.0000%\n",
      "Predictions: [[False False  True False False]\n",
      " [False False  True False False]\n",
      " [False  True False False False]\n",
      " ...\n",
      " [False False  True False False]\n",
      " [False False False False  True]\n",
      " [False  True False False False]]\n"
     ]
    }
   ],
   "source": [
    "import time\n",
    "import joblib\n",
    "import pandas as pd\n",
    "from sklearn.model_selection import train_test_split, cross_val_score\n",
    "from sklearn.neighbors import KNeighborsClassifier\n",
    "from sklearn.metrics import accuracy_score\n",
    "from sklearn.preprocessing import StandardScaler\n",
    "\n",
    "data_for_prediction = df.drop(columns=['Patient_ID'])\n",
    "X = data_for_prediction.drop(columns=disease_columns)\n",
    "\n",
    "y = data_for_prediction[disease_columns]\n",
    "\n",
    "x_train, x_test, y_train, y_test = train_test_split(X, y, test_size=0.2, random_state=42)\n",
    "\n",
    "x_train = x_train.apply(lambda col: col.astype(int) if col.dtype == 'bool' else col)\n",
    "x_test = x_test.apply(lambda col: col.astype(int) if col.dtype == 'bool' else col)\n",
    "\n",
    "scaler = StandardScaler()\n",
    "x_train_scaled = scaler.fit_transform(x_train)\n",
    "x_test_scaled = scaler.transform(x_test)\n",
    "\n",
    "knn = KNeighborsClassifier(n_neighbors=5)\n",
    "\n",
    "start_time = time.time()\n",
    "knn.fit(x_train_scaled, y_train)\n",
    "end_time = time.time()\n",
    "print(f\"Training completed in {end_time - start_time:.2f} seconds.\")\n",
    "\n",
    "cv_scores = cross_val_score(knn, x_train_scaled, y_train, cv=5, scoring='accuracy')\n",
    "print(f\"Cross-validation accuracy: {cv_scores.mean():.2f} ± {cv_scores.std():.2f}\")\n",
    "\n",
    "y_pred = knn.predict(x_test_scaled)\n",
    "\n",
    "acc = accuracy_score(y_test, y_pred)\n",
    "print(f'Accuracy on Test Data: {acc * 100:.4f}%')\n",
    "\n",
    "joblib.dump(scaler, 'scaler.pkl')\n",
    "joblib.dump(knn, 'heart_disease_knn_model.pkl')\n",
    "\n",
    "print(\"Predictions:\", y_pred)\n"
   ]
  },
  {
   "cell_type": "code",
   "execution_count": null,
   "metadata": {},
   "outputs": [],
   "source": []
  },
  {
   "cell_type": "code",
   "execution_count": null,
   "metadata": {},
   "outputs": [],
   "source": []
  }
 ],
 "metadata": {
  "kernelspec": {
   "display_name": "Python 3",
   "language": "python",
   "name": "python3"
  },
  "language_info": {
   "codemirror_mode": {
    "name": "ipython",
    "version": 3
   },
   "file_extension": ".py",
   "mimetype": "text/x-python",
   "name": "python",
   "nbconvert_exporter": "python",
   "pygments_lexer": "ipython3",
   "version": "3.11.9"
  }
 },
 "nbformat": 4,
 "nbformat_minor": 2
}
