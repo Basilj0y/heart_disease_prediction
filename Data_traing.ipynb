{
 "cells": [
  {
   "cell_type": "markdown",
   "metadata": {},
   "source": [
    "**IMPORTING LIBRARIES**"
   ]
  },
  {
   "cell_type": "code",
   "execution_count": 1,
   "metadata": {},
   "outputs": [],
   "source": [
    "import pandas as pd\n",
    "import numpy as np"
   ]
  },
  {
   "cell_type": "markdown",
   "metadata": {},
   "source": [
    "- Importing data into dataframe from csv"
   ]
  },
  {
   "cell_type": "code",
   "execution_count": 2,
   "metadata": {},
   "outputs": [],
   "source": [
    "df=pd.read_csv(r\"E:\\heart_disease_prediction\\Patient_Health_Data.csv\")"
   ]
  },
  {
   "cell_type": "markdown",
   "metadata": {},
   "source": [
    "- Reading few rows of the dataset"
   ]
  },
  {
   "cell_type": "code",
   "execution_count": 3,
   "metadata": {},
   "outputs": [
    {
     "data": {
      "text/html": [
       "<div>\n",
       "<style scoped>\n",
       "    .dataframe tbody tr th:only-of-type {\n",
       "        vertical-align: middle;\n",
       "    }\n",
       "\n",
       "    .dataframe tbody tr th {\n",
       "        vertical-align: top;\n",
       "    }\n",
       "\n",
       "    .dataframe thead th {\n",
       "        text-align: right;\n",
       "    }\n",
       "</style>\n",
       "<table border=\"1\" class=\"dataframe\">\n",
       "  <thead>\n",
       "    <tr style=\"text-align: right;\">\n",
       "      <th></th>\n",
       "      <th>Patient_ID</th>\n",
       "      <th>Height_cm</th>\n",
       "      <th>Weight_kg</th>\n",
       "      <th>Blood_Pressure</th>\n",
       "      <th>Temperature_C</th>\n",
       "      <th>Heart_Rate</th>\n",
       "      <th>Symptoms</th>\n",
       "      <th>Existing_Conditions</th>\n",
       "      <th>Disease_Predictions</th>\n",
       "      <th>Laboratory_Test_Results</th>\n",
       "      <th>Cholesterol_mg_dL</th>\n",
       "      <th>Blood_Sugar_mg_dL</th>\n",
       "      <th>Family_History_Heart_Disease</th>\n",
       "      <th>Smoking_Status</th>\n",
       "    </tr>\n",
       "  </thead>\n",
       "  <tbody>\n",
       "    <tr>\n",
       "      <th>0</th>\n",
       "      <td>P0001</td>\n",
       "      <td>174.0</td>\n",
       "      <td>59.0</td>\n",
       "      <td>120/80</td>\n",
       "      <td>36.6</td>\n",
       "      <td>63.0</td>\n",
       "      <td>chest pain</td>\n",
       "      <td>Diabetes</td>\n",
       "      <td>Heart Disease</td>\n",
       "      <td>High Cholesterol</td>\n",
       "      <td>198.0</td>\n",
       "      <td>79.0</td>\n",
       "      <td>Yes</td>\n",
       "      <td>Never</td>\n",
       "    </tr>\n",
       "    <tr>\n",
       "      <th>1</th>\n",
       "      <td>P0002</td>\n",
       "      <td>NaN</td>\n",
       "      <td>67.0</td>\n",
       "      <td>130/85</td>\n",
       "      <td>37.0</td>\n",
       "      <td>68.0</td>\n",
       "      <td>shortness of breath</td>\n",
       "      <td>Hypertension</td>\n",
       "      <td>Coronary Artery Disease</td>\n",
       "      <td>NaN</td>\n",
       "      <td>179.0</td>\n",
       "      <td>90.0</td>\n",
       "      <td>No</td>\n",
       "      <td>Former</td>\n",
       "    </tr>\n",
       "    <tr>\n",
       "      <th>2</th>\n",
       "      <td>P0003</td>\n",
       "      <td>176.0</td>\n",
       "      <td>58.0</td>\n",
       "      <td>140/90</td>\n",
       "      <td>37.0</td>\n",
       "      <td>65.0</td>\n",
       "      <td>fatigue</td>\n",
       "      <td>High Cholesterol</td>\n",
       "      <td>Arrhythmia</td>\n",
       "      <td>Normal</td>\n",
       "      <td>193.0</td>\n",
       "      <td>82.0</td>\n",
       "      <td>NaN</td>\n",
       "      <td>Current</td>\n",
       "    </tr>\n",
       "    <tr>\n",
       "      <th>3</th>\n",
       "      <td>P0004</td>\n",
       "      <td>185.0</td>\n",
       "      <td>65.0</td>\n",
       "      <td>125/82</td>\n",
       "      <td>37.2</td>\n",
       "      <td>69.0</td>\n",
       "      <td>dizziness</td>\n",
       "      <td>NaN</td>\n",
       "      <td>NaN</td>\n",
       "      <td>NaN</td>\n",
       "      <td>228.0</td>\n",
       "      <td>103.0</td>\n",
       "      <td>No</td>\n",
       "      <td>Never</td>\n",
       "    </tr>\n",
       "    <tr>\n",
       "      <th>4</th>\n",
       "      <td>P0005</td>\n",
       "      <td>167.0</td>\n",
       "      <td>41.0</td>\n",
       "      <td>135/88</td>\n",
       "      <td>36.3</td>\n",
       "      <td>72.0</td>\n",
       "      <td>palpitations</td>\n",
       "      <td>Asthma</td>\n",
       "      <td>Hypertension</td>\n",
       "      <td>NaN</td>\n",
       "      <td>251.0</td>\n",
       "      <td>135.0</td>\n",
       "      <td>Yes</td>\n",
       "      <td>Former</td>\n",
       "    </tr>\n",
       "  </tbody>\n",
       "</table>\n",
       "</div>"
      ],
      "text/plain": [
       "  Patient_ID  Height_cm  Weight_kg Blood_Pressure  Temperature_C  Heart_Rate  \\\n",
       "0      P0001      174.0       59.0         120/80           36.6        63.0   \n",
       "1      P0002        NaN       67.0         130/85           37.0        68.0   \n",
       "2      P0003      176.0       58.0         140/90           37.0        65.0   \n",
       "3      P0004      185.0       65.0         125/82           37.2        69.0   \n",
       "4      P0005      167.0       41.0         135/88           36.3        72.0   \n",
       "\n",
       "              Symptoms Existing_Conditions      Disease_Predictions  \\\n",
       "0           chest pain            Diabetes            Heart Disease   \n",
       "1  shortness of breath        Hypertension  Coronary Artery Disease   \n",
       "2              fatigue    High Cholesterol               Arrhythmia   \n",
       "3            dizziness                 NaN                      NaN   \n",
       "4         palpitations              Asthma             Hypertension   \n",
       "\n",
       "  Laboratory_Test_Results  Cholesterol_mg_dL  Blood_Sugar_mg_dL  \\\n",
       "0        High Cholesterol              198.0               79.0   \n",
       "1                     NaN              179.0               90.0   \n",
       "2                  Normal              193.0               82.0   \n",
       "3                     NaN              228.0              103.0   \n",
       "4                     NaN              251.0              135.0   \n",
       "\n",
       "  Family_History_Heart_Disease Smoking_Status  \n",
       "0                          Yes          Never  \n",
       "1                           No         Former  \n",
       "2                          NaN        Current  \n",
       "3                           No          Never  \n",
       "4                          Yes         Former  "
      ]
     },
     "execution_count": 3,
     "metadata": {},
     "output_type": "execute_result"
    }
   ],
   "source": [
    "df.head()"
   ]
  },
  {
   "cell_type": "markdown",
   "metadata": {},
   "source": [
    "- Finding columns name"
   ]
  },
  {
   "cell_type": "code",
   "execution_count": 4,
   "metadata": {},
   "outputs": [
    {
     "data": {
      "text/plain": [
       "Index(['Patient_ID', 'Height_cm', 'Weight_kg', 'Blood_Pressure',\n",
       "       'Temperature_C', 'Heart_Rate', 'Symptoms', 'Existing_Conditions',\n",
       "       'Disease_Predictions', 'Laboratory_Test_Results', 'Cholesterol_mg_dL',\n",
       "       'Blood_Sugar_mg_dL', 'Family_History_Heart_Disease', 'Smoking_Status'],\n",
       "      dtype='object')"
      ]
     },
     "execution_count": 4,
     "metadata": {},
     "output_type": "execute_result"
    }
   ],
   "source": [
    "df.columns"
   ]
  },
  {
   "cell_type": "markdown",
   "metadata": {},
   "source": [
    "- Finding number of ROWS and COLUMNS"
   ]
  },
  {
   "cell_type": "code",
   "execution_count": 5,
   "metadata": {},
   "outputs": [
    {
     "data": {
      "text/plain": [
       "(2000, 14)"
      ]
     },
     "execution_count": 5,
     "metadata": {},
     "output_type": "execute_result"
    }
   ],
   "source": [
    "df.shape"
   ]
  },
  {
   "cell_type": "markdown",
   "metadata": {},
   "source": [
    "- Basic info of data"
   ]
  },
  {
   "cell_type": "code",
   "execution_count": 6,
   "metadata": {},
   "outputs": [
    {
     "data": {
      "text/plain": [
       "Blood_Pressure    object\n",
       "dtype: object"
      ]
     },
     "execution_count": 6,
     "metadata": {},
     "output_type": "execute_result"
    }
   ],
   "source": [
    "df[['Blood_Pressure']].dtypes"
   ]
  },
  {
   "cell_type": "code",
   "execution_count": 7,
   "metadata": {},
   "outputs": [
    {
     "name": "stdout",
     "output_type": "stream",
     "text": [
      "<class 'pandas.core.frame.DataFrame'>\n",
      "RangeIndex: 2000 entries, 0 to 1999\n",
      "Data columns (total 14 columns):\n",
      " #   Column                        Non-Null Count  Dtype  \n",
      "---  ------                        --------------  -----  \n",
      " 0   Patient_ID                    2000 non-null   object \n",
      " 1   Height_cm                     1915 non-null   float64\n",
      " 2   Weight_kg                     1914 non-null   float64\n",
      " 3   Blood_Pressure                1640 non-null   object \n",
      " 4   Temperature_C                 1892 non-null   float64\n",
      " 5   Heart_Rate                    1903 non-null   float64\n",
      " 6   Symptoms                      1562 non-null   object \n",
      " 7   Existing_Conditions           1488 non-null   object \n",
      " 8   Disease_Predictions           1488 non-null   object \n",
      " 9   Laboratory_Test_Results       1505 non-null   object \n",
      " 10  Cholesterol_mg_dL             1899 non-null   float64\n",
      " 11  Blood_Sugar_mg_dL             1880 non-null   float64\n",
      " 12  Family_History_Heart_Disease  1891 non-null   object \n",
      " 13  Smoking_Status                1911 non-null   object \n",
      "dtypes: float64(6), object(8)\n",
      "memory usage: 218.9+ KB\n"
     ]
    }
   ],
   "source": [
    "df.info()"
   ]
  },
  {
   "cell_type": "code",
   "execution_count": 8,
   "metadata": {},
   "outputs": [
    {
     "data": {
      "text/html": [
       "<div>\n",
       "<style scoped>\n",
       "    .dataframe tbody tr th:only-of-type {\n",
       "        vertical-align: middle;\n",
       "    }\n",
       "\n",
       "    .dataframe tbody tr th {\n",
       "        vertical-align: top;\n",
       "    }\n",
       "\n",
       "    .dataframe thead th {\n",
       "        text-align: right;\n",
       "    }\n",
       "</style>\n",
       "<table border=\"1\" class=\"dataframe\">\n",
       "  <thead>\n",
       "    <tr style=\"text-align: right;\">\n",
       "      <th></th>\n",
       "      <th>count</th>\n",
       "      <th>mean</th>\n",
       "      <th>std</th>\n",
       "      <th>min</th>\n",
       "      <th>25%</th>\n",
       "      <th>50%</th>\n",
       "      <th>75%</th>\n",
       "      <th>max</th>\n",
       "    </tr>\n",
       "  </thead>\n",
       "  <tbody>\n",
       "    <tr>\n",
       "      <th>Height_cm</th>\n",
       "      <td>1915.0</td>\n",
       "      <td>169.902350</td>\n",
       "      <td>9.842987</td>\n",
       "      <td>137.0</td>\n",
       "      <td>163.0</td>\n",
       "      <td>170.0</td>\n",
       "      <td>176.0</td>\n",
       "      <td>208.0</td>\n",
       "    </tr>\n",
       "    <tr>\n",
       "      <th>Weight_kg</th>\n",
       "      <td>1914.0</td>\n",
       "      <td>69.388715</td>\n",
       "      <td>15.047664</td>\n",
       "      <td>24.0</td>\n",
       "      <td>59.0</td>\n",
       "      <td>70.0</td>\n",
       "      <td>79.0</td>\n",
       "      <td>128.0</td>\n",
       "    </tr>\n",
       "    <tr>\n",
       "      <th>Temperature_C</th>\n",
       "      <td>1892.0</td>\n",
       "      <td>36.970983</td>\n",
       "      <td>0.497384</td>\n",
       "      <td>35.4</td>\n",
       "      <td>36.7</td>\n",
       "      <td>37.0</td>\n",
       "      <td>37.3</td>\n",
       "      <td>38.6</td>\n",
       "    </tr>\n",
       "    <tr>\n",
       "      <th>Heart_Rate</th>\n",
       "      <td>1903.0</td>\n",
       "      <td>74.567525</td>\n",
       "      <td>10.325641</td>\n",
       "      <td>38.0</td>\n",
       "      <td>67.0</td>\n",
       "      <td>74.0</td>\n",
       "      <td>82.0</td>\n",
       "      <td>110.0</td>\n",
       "    </tr>\n",
       "    <tr>\n",
       "      <th>Cholesterol_mg_dL</th>\n",
       "      <td>1899.0</td>\n",
       "      <td>199.612954</td>\n",
       "      <td>39.454690</td>\n",
       "      <td>43.0</td>\n",
       "      <td>174.0</td>\n",
       "      <td>200.0</td>\n",
       "      <td>226.0</td>\n",
       "      <td>335.0</td>\n",
       "    </tr>\n",
       "    <tr>\n",
       "      <th>Blood_Sugar_mg_dL</th>\n",
       "      <td>1880.0</td>\n",
       "      <td>99.007447</td>\n",
       "      <td>29.952720</td>\n",
       "      <td>-1.0</td>\n",
       "      <td>79.0</td>\n",
       "      <td>99.0</td>\n",
       "      <td>119.0</td>\n",
       "      <td>201.0</td>\n",
       "    </tr>\n",
       "  </tbody>\n",
       "</table>\n",
       "</div>"
      ],
      "text/plain": [
       "                    count        mean        std    min    25%    50%    75%  \\\n",
       "Height_cm          1915.0  169.902350   9.842987  137.0  163.0  170.0  176.0   \n",
       "Weight_kg          1914.0   69.388715  15.047664   24.0   59.0   70.0   79.0   \n",
       "Temperature_C      1892.0   36.970983   0.497384   35.4   36.7   37.0   37.3   \n",
       "Heart_Rate         1903.0   74.567525  10.325641   38.0   67.0   74.0   82.0   \n",
       "Cholesterol_mg_dL  1899.0  199.612954  39.454690   43.0  174.0  200.0  226.0   \n",
       "Blood_Sugar_mg_dL  1880.0   99.007447  29.952720   -1.0   79.0   99.0  119.0   \n",
       "\n",
       "                     max  \n",
       "Height_cm          208.0  \n",
       "Weight_kg          128.0  \n",
       "Temperature_C       38.6  \n",
       "Heart_Rate         110.0  \n",
       "Cholesterol_mg_dL  335.0  \n",
       "Blood_Sugar_mg_dL  201.0  "
      ]
     },
     "execution_count": 8,
     "metadata": {},
     "output_type": "execute_result"
    }
   ],
   "source": [
    "df.describe().T"
   ]
  },
  {
   "cell_type": "markdown",
   "metadata": {},
   "source": [
    "Spliting columns based on data type"
   ]
  },
  {
   "cell_type": "code",
   "execution_count": 9,
   "metadata": {},
   "outputs": [],
   "source": [
    "num_columns = df.select_dtypes(include=[np.number]).columns\n",
    "cat_columns = df.select_dtypes(exclude=[np.number]).columns"
   ]
  },
  {
   "cell_type": "code",
   "execution_count": 10,
   "metadata": {},
   "outputs": [
    {
     "name": "stdout",
     "output_type": "stream",
     "text": [
      "Numerical columns \n",
      " Index(['Height_cm', 'Weight_kg', 'Temperature_C', 'Heart_Rate',\n",
      "       'Cholesterol_mg_dL', 'Blood_Sugar_mg_dL'],\n",
      "      dtype='object')\n",
      "Categorical columns \n",
      " Index(['Patient_ID', 'Blood_Pressure', 'Symptoms', 'Existing_Conditions',\n",
      "       'Disease_Predictions', 'Laboratory_Test_Results',\n",
      "       'Family_History_Heart_Disease', 'Smoking_Status'],\n",
      "      dtype='object')\n"
     ]
    }
   ],
   "source": [
    "print(\"Numerical columns \\n\",num_columns)\n",
    "print(\"Categorical columns \\n\",cat_columns)"
   ]
  },
  {
   "cell_type": "markdown",
   "metadata": {},
   "source": [
    "**Cleaning Numerical Columns**"
   ]
  },
  {
   "cell_type": "code",
   "execution_count": 11,
   "metadata": {},
   "outputs": [
    {
     "data": {
      "text/plain": [
       "np.int64(85)"
      ]
     },
     "execution_count": 11,
     "metadata": {},
     "output_type": "execute_result"
    }
   ],
   "source": [
    "df[\"Height_cm\"].isnull().sum()  "
   ]
  },
  {
   "cell_type": "code",
   "execution_count": 12,
   "metadata": {},
   "outputs": [
    {
     "data": {
      "text/plain": [
       "np.int64(3112)"
      ]
     },
     "execution_count": 12,
     "metadata": {},
     "output_type": "execute_result"
    }
   ],
   "source": [
    "df.isnull().sum().sum()"
   ]
  },
  {
   "cell_type": "markdown",
   "metadata": {},
   "source": [
    "Distribution of the Height cm"
   ]
  },
  {
   "cell_type": "code",
   "execution_count": 13,
   "metadata": {},
   "outputs": [
    {
     "data": {
      "text/plain": [
       "<Axes: ylabel='Frequency'>"
      ]
     },
     "execution_count": 13,
     "metadata": {},
     "output_type": "execute_result"
    },
    {
     "data": {
      "image/png": "[encoded data removed]",
      "text/plain": [
       "<Figure size 640x480 with 1 Axes>"
      ]
     },
     "metadata": {},
     "output_type": "display_data"
    }
   ],
   "source": [
    "import matplotlib.pyplot as plt\n",
    "df[\"Height_cm\"].plot(kind='hist',bins=10)"
   ]
  },
  {
   "cell_type": "code",
   "execution_count": 14,
   "metadata": {},
   "outputs": [],
   "source": [
    "df[\"Height_cm\"].fillna(df[\"Height_cm\"].mean(),inplace=True)"
   ]
  },
  {
   "cell_type": "code",
   "execution_count": 15,
   "metadata": {},
   "outputs": [
    {
     "name": "stdout",
     "output_type": "stream",
     "text": [
      "0\n"
     ]
    }
   ],
   "source": [
    "print(df[\"Height_cm\"].isnull().sum())"
   ]
  },
  {
   "cell_type": "code",
   "execution_count": 16,
   "metadata": {},
   "outputs": [
    {
     "data": {
      "text/plain": [
       "np.int64(86)"
      ]
     },
     "execution_count": 16,
     "metadata": {},
     "output_type": "execute_result"
    }
   ],
   "source": [
    "df[\"Weight_kg\"].isnull().sum()"
   ]
  },
  {
   "cell_type": "code",
   "execution_count": 17,
   "metadata": {},
   "outputs": [
    {
     "data": {
      "text/plain": [
       "<Axes: ylabel='Frequency'>"
      ]
     },
     "execution_count": 17,
     "metadata": {},
     "output_type": "execute_result"
    },
    {
     "data": {
      "image/png": "[encoded data removed]",
      "text/plain": [
       "<Figure size 640x480 with 1 Axes>"
      ]
     },
     "metadata": {},
     "output_type": "display_data"
    }
   ],
   "source": [
    "df[\"Weight_kg\"].plot(kind='hist',bins=10)"
   ]
  },
  {
   "cell_type": "markdown",
   "metadata": {},
   "source": [
    "The distibution of Weight is in Normal Distribution"
   ]
  },
  {
   "cell_type": "code",
   "execution_count": 18,
   "metadata": {},
   "outputs": [],
   "source": [
    "df[\"Weight_kg\"].fillna(df[\"Weight_kg\"].mean(),inplace=True)"
   ]
  },
  {
   "cell_type": "code",
   "execution_count": 19,
   "metadata": {},
   "outputs": [
    {
     "name": "stdout",
     "output_type": "stream",
     "text": [
      "0\n"
     ]
    }
   ],
   "source": [
    "print(df[\"Weight_kg\"].isnull().sum())"
   ]
  },
  {
   "cell_type": "code",
   "execution_count": 20,
   "metadata": {},
   "outputs": [
    {
     "name": "stdout",
     "output_type": "stream",
     "text": [
      "<class 'pandas.core.frame.DataFrame'>\n",
      "RangeIndex: 2000 entries, 0 to 1999\n",
      "Data columns (total 14 columns):\n",
      " #   Column                        Non-Null Count  Dtype  \n",
      "---  ------                        --------------  -----  \n",
      " 0   Patient_ID                    2000 non-null   object \n",
      " 1   Height_cm                     2000 non-null   float64\n",
      " 2   Weight_kg                     2000 non-null   float64\n",
      " 3   Blood_Pressure                1640 non-null   object \n",
      " 4   Temperature_C                 1892 non-null   float64\n",
      " 5   Heart_Rate                    1903 non-null   float64\n",
      " 6   Symptoms                      1562 non-null   object \n",
      " 7   Existing_Conditions           1488 non-null   object \n",
      " 8   Disease_Predictions           1488 non-null   object \n",
      " 9   Laboratory_Test_Results       1505 non-null   object \n",
      " 10  Cholesterol_mg_dL             1899 non-null   float64\n",
      " 11  Blood_Sugar_mg_dL             1880 non-null   float64\n",
      " 12  Family_History_Heart_Disease  1891 non-null   object \n",
      " 13  Smoking_Status                1911 non-null   object \n",
      "dtypes: float64(6), object(8)\n",
      "memory usage: 218.9+ KB\n"
     ]
    }
   ],
   "source": [
    "df.info()"
   ]
  },
  {
   "cell_type": "code",
   "execution_count": 21,
   "metadata": {},
   "outputs": [
    {
     "data": {
      "text/plain": [
       "np.int64(108)"
      ]
     },
     "execution_count": 21,
     "metadata": {},
     "output_type": "execute_result"
    }
   ],
   "source": [
    "df[\"Temperature_C\"].isnull().sum()"
   ]
  },
  {
   "cell_type": "code",
   "execution_count": 22,
   "metadata": {},
   "outputs": [
    {
     "data": {
      "text/plain": [
       "<Axes: ylabel='Frequency'>"
      ]
     },
     "execution_count": 22,
     "metadata": {},
     "output_type": "execute_result"
    },
    {
     "data": {
      "image/png": "[encoded data removed]",
      "text/plain": [
       "<Figure size 640x480 with 1 Axes>"
      ]
     },
     "metadata": {},
     "output_type": "display_data"
    }
   ],
   "source": [
    "df[\"Temperature_C\"].plot(kind='hist',bins=25)"
   ]
  },
  {
   "cell_type": "markdown",
   "metadata": {},
   "source": [
    "Temperature_C column has its distribution in normal distribution"
   ]
  },
  {
   "cell_type": "code",
   "execution_count": 23,
   "metadata": {},
   "outputs": [],
   "source": [
    "df_temp =df[\"Temperature_C\"].fillna(df[\"Temperature_C\"].mean(),inplace=True)"
   ]
  },
  {
   "cell_type": "code",
   "execution_count": 24,
   "metadata": {},
   "outputs": [
    {
     "name": "stdout",
     "output_type": "stream",
     "text": [
      "0\n"
     ]
    }
   ],
   "source": [
    "print(df[\"Temperature_C\"].isnull().sum())"
   ]
  },
  {
   "cell_type": "code",
   "execution_count": 25,
   "metadata": {},
   "outputs": [
    {
     "data": {
      "text/plain": [
       "np.int64(97)"
      ]
     },
     "execution_count": 25,
     "metadata": {},
     "output_type": "execute_result"
    }
   ],
   "source": [
    "df[\"Heart_Rate\"].isnull().sum()"
   ]
  },
  {
   "cell_type": "code",
   "execution_count": 26,
   "metadata": {},
   "outputs": [
    {
     "data": {
      "text/plain": [
       "<Axes: ylabel='Frequency'>"
      ]
     },
     "execution_count": 26,
     "metadata": {},
     "output_type": "execute_result"
    },
    {
     "data": {
      "image/png": "[encoded data removed]",
      "text/plain": [
       "<Figure size 640x480 with 1 Axes>"
      ]
     },
     "metadata": {},
     "output_type": "display_data"
    }
   ],
   "source": [
    "df[\"Heart_Rate\"].plot(kind='hist',bins=25)"
   ]
  },
  {
   "cell_type": "markdown",
   "metadata": {},
   "source": [
    "Heart_Rate has distribution like Normal Distribution"
   ]
  },
  {
   "cell_type": "code",
   "execution_count": 27,
   "metadata": {},
   "outputs": [],
   "source": [
    "df_heart_rate =df[\"Heart_Rate\"].fillna(df[\"Heart_Rate\"].mean(),inplace=True)"
   ]
  },
  {
   "cell_type": "code",
   "execution_count": 28,
   "metadata": {},
   "outputs": [
    {
     "data": {
      "text/plain": [
       "np.int64(0)"
      ]
     },
     "execution_count": 28,
     "metadata": {},
     "output_type": "execute_result"
    }
   ],
   "source": [
    "df[\"Heart_Rate\"].isnull().sum()"
   ]
  },
  {
   "cell_type": "code",
   "execution_count": 29,
   "metadata": {},
   "outputs": [
    {
     "name": "stdout",
     "output_type": "stream",
     "text": [
      "<class 'pandas.core.frame.DataFrame'>\n",
      "RangeIndex: 2000 entries, 0 to 1999\n",
      "Data columns (total 14 columns):\n",
      " #   Column                        Non-Null Count  Dtype  \n",
      "---  ------                        --------------  -----  \n",
      " 0   Patient_ID                    2000 non-null   object \n",
      " 1   Height_cm                     2000 non-null   float64\n",
      " 2   Weight_kg                     2000 non-null   float64\n",
      " 3   Blood_Pressure                1640 non-null   object \n",
      " 4   Temperature_C                 2000 non-null   float64\n",
      " 5   Heart_Rate                    2000 non-null   float64\n",
      " 6   Symptoms                      1562 non-null   object \n",
      " 7   Existing_Conditions           1488 non-null   object \n",
      " 8   Disease_Predictions           1488 non-null   object \n",
      " 9   Laboratory_Test_Results       1505 non-null   object \n",
      " 10  Cholesterol_mg_dL             1899 non-null   float64\n",
      " 11  Blood_Sugar_mg_dL             1880 non-null   float64\n",
      " 12  Family_History_Heart_Disease  1891 non-null   object \n",
      " 13  Smoking_Status                1911 non-null   object \n",
      "dtypes: float64(6), object(8)\n",
      "memory usage: 218.9+ KB\n"
     ]
    }
   ],
   "source": [
    "df.info()"
   ]
  },
  {
   "cell_type": "code",
   "execution_count": 30,
   "metadata": {},
   "outputs": [
    {
     "data": {
      "text/plain": [
       "np.int64(512)"
      ]
     },
     "execution_count": 30,
     "metadata": {},
     "output_type": "execute_result"
    }
   ],
   "source": [
    "df[\"Disease_Predictions\"].isnull().sum()"
   ]
  },
  {
   "cell_type": "code",
   "execution_count": 31,
   "metadata": {},
   "outputs": [
    {
     "data": {
      "text/plain": [
       "array(['Diabetes', 'Hypertension', 'High Cholesterol', nan, 'Asthma',\n",
       "       'Thyroid'], dtype=object)"
      ]
     },
     "execution_count": 31,
     "metadata": {},
     "output_type": "execute_result"
    }
   ],
   "source": [
    "df[\"Existing_Conditions\"].unique()"
   ]
  },
  {
   "cell_type": "code",
   "execution_count": 32,
   "metadata": {},
   "outputs": [
    {
     "data": {
      "text/plain": [
       "array(['Heart Disease', 'Coronary Artery Disease', 'Arrhythmia', nan,\n",
       "       'Hypertension', 'Stroke'], dtype=object)"
      ]
     },
     "execution_count": 32,
     "metadata": {},
     "output_type": "execute_result"
    }
   ],
   "source": [
    "df[\"Disease_Predictions\"].unique()"
   ]
  },
  {
   "cell_type": "markdown",
   "metadata": {},
   "source": []
  },
  {
   "cell_type": "code",
   "execution_count": 33,
   "metadata": {},
   "outputs": [
    {
     "data": {
      "text/plain": [
       "Existing_Conditions  Disease_Predictions    \n",
       "Asthma               Hypertension               266\n",
       "Diabetes             Heart Disease              269\n",
       "High Cholesterol     Arrhythmia                 267\n",
       "Hypertension         Coronary Artery Disease    261\n",
       "Name: count, dtype: int64"
      ]
     },
     "execution_count": 33,
     "metadata": {},
     "output_type": "execute_result"
    }
   ],
   "source": [
    "df.groupby('Existing_Conditions')[\"Disease_Predictions\"].value_counts()"
   ]
  },
  {
   "cell_type": "code",
   "execution_count": 34,
   "metadata": {},
   "outputs": [
    {
     "data": {
      "text/plain": [
       "108     False\n",
       "120     False\n",
       "150     False\n",
       "312     False\n",
       "450     False\n",
       "486     False\n",
       "504     False\n",
       "558     False\n",
       "570     False\n",
       "828     False\n",
       "834     False\n",
       "858     False\n",
       "894     False\n",
       "1170    False\n",
       "1236    False\n",
       "1284    False\n",
       "1350    False\n",
       "1422    False\n",
       "1512    False\n",
       "1566    False\n",
       "1572    False\n",
       "1578    False\n",
       "1728    False\n",
       "1758    False\n",
       "1776    False\n",
       "1812    False\n",
       "1830    False\n",
       "1896    False\n",
       "1914    False\n",
       "1992    False\n",
       "Name: Disease_Predictions, dtype: bool"
      ]
     },
     "execution_count": 34,
     "metadata": {},
     "output_type": "execute_result"
    }
   ],
   "source": [
    "df.loc[(df[\"Existing_Conditions\"]==\"Diabetes\") & (df[\"Disease_Predictions\"].isna()),\"Disease_Predictions\"]==\"Heart Disease\""
   ]
  },
  {
   "cell_type": "code",
   "execution_count": 35,
   "metadata": {},
   "outputs": [],
   "source": [
    "df.loc[(df['Existing_Conditions'] == 'Diabetes') & (df['Disease_Predictions'].isna()), 'Disease_Predictions'] = 'Heart Disease'\n"
   ]
  }
 ],
 "metadata": {
  "kernelspec": {
   "display_name": "hdp",
   "language": "python",
   "name": "python3"
  },
  "language_info": {
   "codemirror_mode": {
    "name": "ipython",
    "version": 3
   },
   "file_extension": ".py",
   "mimetype": "text/x-python",
   "name": "python",
   "nbconvert_exporter": "python",
   "pygments_lexer": "ipython3",
   "version": "3.12.4"
  }
 },
 "nbformat": 4,
 "nbformat_minor": 2
}
